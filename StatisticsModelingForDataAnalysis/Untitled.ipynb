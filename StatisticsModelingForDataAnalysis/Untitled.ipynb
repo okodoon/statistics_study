{
 "cells": [
  {
   "cell_type": "markdown",
   "id": "ec712c43-4e12-4d6a-87de-3035741b835b",
   "metadata": {},
   "source": [
    "# 第二章　確率分布と統計モデルの最尤推定"
   ]
  },
  {
   "cell_type": "code",
   "execution_count": null,
   "id": "51b403e6-cb31-4feb-b484-3dc1002a7405",
   "metadata": {},
   "outputs": [],
   "source": []
  }
 ],
 "metadata": {
  "kernelspec": {
   "display_name": "Python 3 (ipykernel)",
   "language": "python",
   "name": "python3"
  },
  "language_info": {
   "codemirror_mode": {
    "name": "ipython",
    "version": 3
   },
   "file_extension": ".py",
   "mimetype": "text/x-python",
   "name": "python",
   "nbconvert_exporter": "python",
   "pygments_lexer": "ipython3",
   "version": "3.9.7"
  }
 },
 "nbformat": 4,
 "nbformat_minor": 5
}
