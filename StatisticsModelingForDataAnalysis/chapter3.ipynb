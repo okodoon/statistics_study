{
 "cells": [
  {
   "cell_type": "code",
   "execution_count": null,
   "id": "3602ec13-82d6-42f5-919b-1d8cfed957fb",
   "metadata": {},
   "outputs": [],
   "source": []
  },
  {
   "cell_type": "markdown",
   "id": "c09d3b54-3682-4cc6-8e54-858f3662eff1",
   "metadata": {},
   "source": [
    "# 第三章　一般化線形モデル(GLM)\n",
    "\n",
    "統計モデルを観測データに当てはめること：**回帰**\n",
    "\n",
    "説明変数を組み込んだ統計モデル：**一般化線形モデル**"
   ]
  },
  {
   "cell_type": "markdown",
   "id": "d2c34425-1230-4543-92a0-896c4c942360",
   "metadata": {},
   "source": [
    "## 3.1 "
   ]
  },
  {
   "cell_type": "code",
   "execution_count": 2,
   "id": "005ef9a2-235a-46ab-a4d5-7ad90f903ba4",
   "metadata": {},
   "outputs": [],
   "source": [
    "import requests\n",
    "import math\n",
    "import numpy as np\n",
    "import pandas as pd\n",
    "import matplotlib.pyplot as plt\n",
    "from scipy.stats import poisson"
   ]
  },
  {
   "cell_type": "code",
   "execution_count": 8,
   "id": "4a588bc9-f451-4330-b225-64148f026134",
   "metadata": {},
   "outputs": [
    {
     "data": {
      "text/html": [
       "<div>\n",
       "<style scoped>\n",
       "    .dataframe tbody tr th:only-of-type {\n",
       "        vertical-align: middle;\n",
       "    }\n",
       "\n",
       "    .dataframe tbody tr th {\n",
       "        vertical-align: top;\n",
       "    }\n",
       "\n",
       "    .dataframe thead th {\n",
       "        text-align: right;\n",
       "    }\n",
       "</style>\n",
       "<table border=\"1\" class=\"dataframe\">\n",
       "  <thead>\n",
       "    <tr style=\"text-align: right;\">\n",
       "      <th></th>\n",
       "      <th>y</th>\n",
       "      <th>x</th>\n",
       "      <th>f</th>\n",
       "    </tr>\n",
       "  </thead>\n",
       "  <tbody>\n",
       "    <tr>\n",
       "      <th>0</th>\n",
       "      <td>6</td>\n",
       "      <td>8.31</td>\n",
       "      <td>C</td>\n",
       "    </tr>\n",
       "    <tr>\n",
       "      <th>1</th>\n",
       "      <td>6</td>\n",
       "      <td>9.44</td>\n",
       "      <td>C</td>\n",
       "    </tr>\n",
       "    <tr>\n",
       "      <th>2</th>\n",
       "      <td>6</td>\n",
       "      <td>9.50</td>\n",
       "      <td>C</td>\n",
       "    </tr>\n",
       "    <tr>\n",
       "      <th>3</th>\n",
       "      <td>12</td>\n",
       "      <td>9.07</td>\n",
       "      <td>C</td>\n",
       "    </tr>\n",
       "    <tr>\n",
       "      <th>4</th>\n",
       "      <td>10</td>\n",
       "      <td>10.16</td>\n",
       "      <td>C</td>\n",
       "    </tr>\n",
       "  </tbody>\n",
       "</table>\n",
       "</div>"
      ],
      "text/plain": [
       "    y      x  f\n",
       "0   6   8.31  C\n",
       "1   6   9.44  C\n",
       "2   6   9.50  C\n",
       "3  12   9.07  C\n",
       "4  10  10.16  C"
      ]
     },
     "execution_count": 8,
     "metadata": {},
     "output_type": "execute_result"
    }
   ],
   "source": [
    "data = pd.read_csv('sample_data/data3a.csv')\n",
    "\n",
    "# i=0~49は何も特別な処理をされていない種子データ\n",
    "data.head()"
   ]
  },
  {
   "cell_type": "code",
   "execution_count": 10,
   "id": "0b5177bf-a66b-4521-85ef-b90299540df9",
   "metadata": {},
   "outputs": [
    {
     "data": {
      "text/html": [
       "<div>\n",
       "<style scoped>\n",
       "    .dataframe tbody tr th:only-of-type {\n",
       "        vertical-align: middle;\n",
       "    }\n",
       "\n",
       "    .dataframe tbody tr th {\n",
       "        vertical-align: top;\n",
       "    }\n",
       "\n",
       "    .dataframe thead th {\n",
       "        text-align: right;\n",
       "    }\n",
       "</style>\n",
       "<table border=\"1\" class=\"dataframe\">\n",
       "  <thead>\n",
       "    <tr style=\"text-align: right;\">\n",
       "      <th></th>\n",
       "      <th>y</th>\n",
       "      <th>x</th>\n",
       "      <th>f</th>\n",
       "    </tr>\n",
       "  </thead>\n",
       "  <tbody>\n",
       "    <tr>\n",
       "      <th>95</th>\n",
       "      <td>8</td>\n",
       "      <td>9.15</td>\n",
       "      <td>T</td>\n",
       "    </tr>\n",
       "    <tr>\n",
       "      <th>96</th>\n",
       "      <td>6</td>\n",
       "      <td>8.52</td>\n",
       "      <td>T</td>\n",
       "    </tr>\n",
       "    <tr>\n",
       "      <th>97</th>\n",
       "      <td>8</td>\n",
       "      <td>10.24</td>\n",
       "      <td>T</td>\n",
       "    </tr>\n",
       "    <tr>\n",
       "      <th>98</th>\n",
       "      <td>7</td>\n",
       "      <td>10.86</td>\n",
       "      <td>T</td>\n",
       "    </tr>\n",
       "    <tr>\n",
       "      <th>99</th>\n",
       "      <td>9</td>\n",
       "      <td>9.97</td>\n",
       "      <td>T</td>\n",
       "    </tr>\n",
       "  </tbody>\n",
       "</table>\n",
       "</div>"
      ],
      "text/plain": [
       "    y      x  f\n",
       "95  8   9.15  T\n",
       "96  6   8.52  T\n",
       "97  8  10.24  T\n",
       "98  7  10.86  T\n",
       "99  9   9.97  T"
      ]
     },
     "execution_count": 10,
     "metadata": {},
     "output_type": "execute_result"
    }
   ],
   "source": [
    "# i=50~99は施肥処理をされた種子データ\n",
    "data.tail()"
   ]
  },
  {
   "cell_type": "markdown",
   "id": "3f3cb2a3-f251-46f4-8838-18188b3c2962",
   "metadata": {},
   "source": [
    "## 3.2 データの概要を調べる"
   ]
  },
  {
   "cell_type": "code",
   "execution_count": 12,
   "id": "4b66e6a9-eb02-4b92-bb45-d0102d6dbfaa",
   "metadata": {},
   "outputs": [
    {
     "name": "stdout",
     "output_type": "stream",
     "text": [
      "<class 'pandas.core.frame.DataFrame'>\n",
      "RangeIndex: 100 entries, 0 to 99\n",
      "Data columns (total 3 columns):\n",
      " #   Column  Non-Null Count  Dtype  \n",
      "---  ------  --------------  -----  \n",
      " 0   y       100 non-null    int64  \n",
      " 1   x       100 non-null    float64\n",
      " 2   f       100 non-null    object \n",
      "dtypes: float64(1), int64(1), object(1)\n",
      "memory usage: 2.5+ KB\n"
     ]
    }
   ],
   "source": [
    "# 各列の型\n",
    "data.info()"
   ]
  },
  {
   "cell_type": "code",
   "execution_count": 11,
   "id": "25728c8c-c2bf-423d-981e-6e0ba4f7572f",
   "metadata": {},
   "outputs": [
    {
     "data": {
      "text/plain": [
       "C    50\n",
       "T    50\n",
       "Name: f, dtype: int64"
      ]
     },
     "execution_count": 11,
     "metadata": {},
     "output_type": "execute_result"
    }
   ],
   "source": [
    "# fの値の分布\n",
    "data['f'].value_counts()"
   ]
  },
  {
   "cell_type": "code",
   "execution_count": 13,
   "id": "95ee9bef-b960-4d28-b21a-24f7c89099df",
   "metadata": {},
   "outputs": [
    {
     "data": {
      "text/html": [
       "<div>\n",
       "<style scoped>\n",
       "    .dataframe tbody tr th:only-of-type {\n",
       "        vertical-align: middle;\n",
       "    }\n",
       "\n",
       "    .dataframe tbody tr th {\n",
       "        vertical-align: top;\n",
       "    }\n",
       "\n",
       "    .dataframe thead th {\n",
       "        text-align: right;\n",
       "    }\n",
       "</style>\n",
       "<table border=\"1\" class=\"dataframe\">\n",
       "  <thead>\n",
       "    <tr style=\"text-align: right;\">\n",
       "      <th></th>\n",
       "      <th>y</th>\n",
       "      <th>x</th>\n",
       "    </tr>\n",
       "  </thead>\n",
       "  <tbody>\n",
       "    <tr>\n",
       "      <th>count</th>\n",
       "      <td>100.000000</td>\n",
       "      <td>100.000000</td>\n",
       "    </tr>\n",
       "    <tr>\n",
       "      <th>mean</th>\n",
       "      <td>7.830000</td>\n",
       "      <td>10.089100</td>\n",
       "    </tr>\n",
       "    <tr>\n",
       "      <th>std</th>\n",
       "      <td>2.624881</td>\n",
       "      <td>1.008049</td>\n",
       "    </tr>\n",
       "    <tr>\n",
       "      <th>min</th>\n",
       "      <td>2.000000</td>\n",
       "      <td>7.190000</td>\n",
       "    </tr>\n",
       "    <tr>\n",
       "      <th>25%</th>\n",
       "      <td>6.000000</td>\n",
       "      <td>9.427500</td>\n",
       "    </tr>\n",
       "    <tr>\n",
       "      <th>50%</th>\n",
       "      <td>8.000000</td>\n",
       "      <td>10.155000</td>\n",
       "    </tr>\n",
       "    <tr>\n",
       "      <th>75%</th>\n",
       "      <td>10.000000</td>\n",
       "      <td>10.685000</td>\n",
       "    </tr>\n",
       "    <tr>\n",
       "      <th>max</th>\n",
       "      <td>15.000000</td>\n",
       "      <td>12.400000</td>\n",
       "    </tr>\n",
       "  </tbody>\n",
       "</table>\n",
       "</div>"
      ],
      "text/plain": [
       "                y           x\n",
       "count  100.000000  100.000000\n",
       "mean     7.830000   10.089100\n",
       "std      2.624881    1.008049\n",
       "min      2.000000    7.190000\n",
       "25%      6.000000    9.427500\n",
       "50%      8.000000   10.155000\n",
       "75%     10.000000   10.685000\n",
       "max     15.000000   12.400000"
      ]
     },
     "execution_count": 13,
     "metadata": {},
     "output_type": "execute_result"
    }
   ],
   "source": [
    "# y列とx列の要約統計量\n",
    "data.describe()"
   ]
  },
  {
   "cell_type": "markdown",
   "id": "0dc10eac-3a95-49ae-915b-d2d6150c4406",
   "metadata": {},
   "source": [
    "## 3.3 統計モデリングの前にデータを図示する\n",
    "\n",
    "モデリングする前に視覚的にデータをよく見ることが大事"
   ]
  },
  {
   "cell_type": "code",
   "execution_count": 14,
   "id": "454f84e1-9b3c-45c2-b039-2b7d3dddf35a",
   "metadata": {},
   "outputs": [
    {
     "data": {
      "image/png": "[encoded data removed]",
      "text/plain": [
       "<Figure size 432x288 with 1 Axes>"
      ]
     },
     "metadata": {
      "needs_background": "light"
     },
     "output_type": "display_data"
    }
   ],
   "source": [
    "# 散布図\n",
    "plt.scatter(data[data['f']=='C']['x'], data[data['f']=='C']['y'], marker='o', label='C')\n",
    "plt.scatter(data[data['f']=='T']['x'], data[data['f']=='T']['y'], marker='x', label='T')\n",
    "plt.legend(loc='best')\n",
    "plt.show()"
   ]
  },
  {
   "cell_type": "code",
   "execution_count": 15,
   "id": "58467339-9ae9-4a4b-9c5e-941f097bfab4",
   "metadata": {},
   "outputs": [
    {
     "data": {
      "image/png": "[encoded data removed]",
      "text/plain": [
       "<Figure size 432x288 with 1 Axes>"
      ]
     },
     "metadata": {
      "needs_background": "light"
     },
     "output_type": "display_data"
    }
   ],
   "source": [
    "# 箱ひげ図\n",
    "fig, ax = plt.subplots()\n",
    "ax.boxplot([data[data['f']=='C']['y'], data[data['f']=='T']['y']])\n",
    "ax.set_xticklabels(['C', 'T'])\n",
    "plt.show()"
   ]
  },
  {
   "cell_type": "markdown",
   "id": "71c94eb8-19c9-465e-a8fd-573bcee6dc4a",
   "metadata": {},
   "source": [
    "## 3.4 ポアソン回帰の統計モデル\n",
    "\n",
    "二章では平均種子数$\\lambda$が全個体で共通の値であると仮定した上で、平均$\\lambda$のポアソン分布で説明できるとした<br>\n",
    "この章では個体ごとの平均種子数$\\lambda_i$が体サイズx, 施肥処理fに影響されるようなモデルを設計する\n",
    "\n",
    "個体iの体サイズ$x_i$だけに依存する統計モデルについて考える<br>\n",
    "説明変数は体サイズ$x_i$, 応答変数は種子数$y_i$, 施肥効果$f_i$は一旦無視\n",
    "\n",
    "ある個体iの種子数が$y_i$である確率$p(y_i \\mid \\lambda_i)$はポアソン分布に従うと仮定する\n",
    "$$\n",
    "p(y_i | \\lambda) = \\frac{\\lambda^{y_i}exp(-\\lambda)}{y_i!}\n",
    "$$"
   ]
  },
  {
   "cell_type": "markdown",
   "id": "39cf9615-9d39-4fd0-a91d-86f0f35035b8",
   "metadata": {},
   "source": [
    "### 3.4.1 線形予測子と対数リンク関数\n",
    "\n",
    "平均$\\lambda_i$を説明変数である体サイズ$x_i$の関数で定義する\n",
    "$$\n",
    "\\lambda_i = exp(\\beta_1 + \\beta_2 x_i)\n",
    "$$\n",
    "以下の形に変形できる\n",
    "$$\n",
    "log \\lambda_i = \\beta_1 + \\beta_2 x_i\n",
    "$$\n",
    "右辺$\\beta_1 + \\beta_2 x_i$は線形予測子と呼ぶ\n",
    "\n",
    "($\\lambda_i$の関数) = (線形予測子)<br>\n",
    "となっている場合、左側の関数をリンク関数と呼ばれる<br>\n",
    "\n",
    "今回の場合は**対数リンク関数**と呼ばれ、ポアソン回帰する場合は大体は対数リンク関数<br>\n",
    "ポアソン回帰のGLMで対数リンク関数を使う理由は、これが推定計算に都合よくかつわかりやすいから\n",
    "\n",
    "推定計算に都合が良い理由: $\\lambda_i = exp(線形予測子) \\geqq 0$となっているところ<br>\n",
    "ポアソン分布の平均は非負でなければならず、対数リンク関数を使うと説明変数やパラメータがどのような値になってもこの条件が守られるので最尤推定値の探索に便利だから"
   ]
  },
  {
   "cell_type": "code",
   "execution_count": 23,
   "id": "5e60a84a-b835-4828-9075-966c964aacac",
   "metadata": {},
   "outputs": [
    {
     "data": {
      "image/png": "[encoded data removed]",
      "text/plain": [
       "<Figure size 432x288 with 1 Axes>"
      ]
     },
     "metadata": {
      "needs_background": "light"
     },
     "output_type": "display_data"
    }
   ],
   "source": [
    "# 参考：pythonでの関数の描画 https://pianofisica.hatenablog.com/entry/2020/09/16/120000\n",
    "\n",
    "import matplotlib.pyplot as plt\n",
    "import numpy as np\n",
    "\n",
    "x = np.linspace( -4, 4, 70)   # linspace(min, max, N) で範囲 min から max を N 分割します\n",
    "y = np.exp(-1 + 0.4*x )\n",
    "plt.plot(x,y)\n",
    "\n",
    "p = np.linspace( -4, 4, 70)   # linspace(min, max, N) で範囲 min から max を N 分割します\n",
    "q = np.exp(-2 - 0.8*p )\n",
    "plt.plot(p, q)\n",
    "\n",
    "plt.xlabel('λ_i')\n",
    "plt.ylabel('x_i')\n",
    "\n",
    "plt.show()"
   ]
  },
  {
   "cell_type": "markdown",
   "id": "e7f0c4b3-fb61-409e-a45b-18cadc6f0758",
   "metadata": {},
   "source": [
    "個体iの平均種子数$\\lambda_i$と体サイズ$x_i$の関係\n",
    "\n",
    "オレンジ：$\\{\\beta_1, \\beta_2\\} = \\{-2, -0.8\\}$<br>\n",
    "ブルー：$\\{\\beta_1, \\beta_2\\} = \\{-1, -0.8\\}$"
   ]
  },
  {
   "cell_type": "markdown",
   "id": "19659814-6237-4ef8-b1cf-9d64da911872",
   "metadata": {},
   "source": [
    "### 3.4.2 当てはめと当てはまりの良さ\n",
    "\n",
    "ポアソン回帰：観測データに対するポアソン分布を使った統計モデルの当てはめ\n",
    "ポアソン回帰：対数尤度$logL$が最大になるパラメータ$\\beta_1, \\beta_2$の推定値を決めること\n",
    "\n",
    "このモデルの尤度は二章より以下で表される\n",
    "$$\n",
    "L(\\lambda_i) = \\prod_i{p(y_i \\mid \\lambda_i)} = \\prod_i{\\frac{\\lambda_i^{y_i}exp(-\\lambda_i)}{y_i!}}\n",
    "$$\n",
    "対数尤度logLは以下\n",
    "$$\n",
    "logL(\\lambda_i) = \\sum_i log \\frac{\\lambda_i^{y_i}exp(-\\lambda_i)}{y_i!} \\\\\n",
    "logL(\\beta_1, \\beta_2) = \\sum_i log \\frac{\\lambda_i^{y_i}exp(-\\lambda_i)}{y_i!}\n",
    "$$\n",
    "\n",
    "線形予測子は$log\\lambda_i = \\beta_1 + \\beta_2x_i$で$\\lambda_i$が$\\beta_1, \\beta_2$の関数であることに注意\n",
    "\n",
    "$\\beta_1, \\beta_2$の２変数を同時に扱うので、二章の時のように解析的な導出は難しい<br>\n",
    "そのためpythonのモデルに頼った数値的な試行錯誤で導出する"
   ]
  },
  {
   "cell_type": "code",
   "execution_count": 30,
   "id": "cc06a6a1-9d26-42ca-8308-ea5aa3a17542",
   "metadata": {},
   "outputs": [],
   "source": [
    "# statsmodelのGLMを活用する\n",
    "# 公式　https://www.statsmodels.org/stable/generated/statsmodels.genmod.generalized_linear_model.GLM.html\n",
    "\n",
    "import statsmodels.formula.api as smf\n",
    "import statsmodels.api as sm"
   ]
  },
  {
   "cell_type": "code",
   "execution_count": 31,
   "id": "80e2ed07-6e62-4011-a7d7-e728d6ba0ae5",
   "metadata": {},
   "outputs": [
    {
     "data": {
      "text/html": [
       "<table class=\"simpletable\">\n",
       "<caption>Generalized Linear Model Regression Results</caption>\n",
       "<tr>\n",
       "  <th>Dep. Variable:</th>           <td>y</td>        <th>  No. Observations:  </th>  <td>   100</td> \n",
       "</tr>\n",
       "<tr>\n",
       "  <th>Model:</th>                  <td>GLM</td>       <th>  Df Residuals:      </th>  <td>    98</td> \n",
       "</tr>\n",
       "<tr>\n",
       "  <th>Model Family:</th>         <td>Poisson</td>     <th>  Df Model:          </th>  <td>     1</td> \n",
       "</tr>\n",
       "<tr>\n",
       "  <th>Link Function:</th>          <td>Log</td>       <th>  Scale:             </th> <td>  1.0000</td>\n",
       "</tr>\n",
       "<tr>\n",
       "  <th>Method:</th>                <td>IRLS</td>       <th>  Log-Likelihood:    </th> <td> -235.39</td>\n",
       "</tr>\n",
       "<tr>\n",
       "  <th>Date:</th>            <td>Sun, 17 Apr 2022</td> <th>  Deviance:          </th> <td>  84.993</td>\n",
       "</tr>\n",
       "<tr>\n",
       "  <th>Time:</th>                <td>02:53:33</td>     <th>  Pearson chi2:      </th>  <td>  83.8</td> \n",
       "</tr>\n",
       "<tr>\n",
       "  <th>No. Iterations:</th>          <td>4</td>        <th>  Pseudo R-squ. (CS):</th>  <td>0.04414</td>\n",
       "</tr>\n",
       "<tr>\n",
       "  <th>Covariance Type:</th>     <td>nonrobust</td>    <th>                     </th>     <td> </td>   \n",
       "</tr>\n",
       "</table>\n",
       "<table class=\"simpletable\">\n",
       "<tr>\n",
       "      <td></td>         <th>coef</th>     <th>std err</th>      <th>z</th>      <th>P>|z|</th>  <th>[0.025</th>    <th>0.975]</th>  \n",
       "</tr>\n",
       "<tr>\n",
       "  <th>Intercept</th> <td>    1.2917</td> <td>    0.364</td> <td>    3.552</td> <td> 0.000</td> <td>    0.579</td> <td>    2.005</td>\n",
       "</tr>\n",
       "<tr>\n",
       "  <th>x</th>         <td>    0.0757</td> <td>    0.036</td> <td>    2.125</td> <td> 0.034</td> <td>    0.006</td> <td>    0.145</td>\n",
       "</tr>\n",
       "</table>"
      ],
      "text/plain": [
       "<class 'statsmodels.iolib.summary.Summary'>\n",
       "\"\"\"\n",
       "                 Generalized Linear Model Regression Results                  \n",
       "==============================================================================\n",
       "Dep. Variable:                      y   No. Observations:                  100\n",
       "Model:                            GLM   Df Residuals:                       98\n",
       "Model Family:                 Poisson   Df Model:                            1\n",
       "Link Function:                    Log   Scale:                          1.0000\n",
       "Method:                          IRLS   Log-Likelihood:                -235.39\n",
       "Date:                Sun, 17 Apr 2022   Deviance:                       84.993\n",
       "Time:                        02:53:33   Pearson chi2:                     83.8\n",
       "No. Iterations:                     4   Pseudo R-squ. (CS):            0.04414\n",
       "Covariance Type:            nonrobust                                         \n",
       "==============================================================================\n",
       "                 coef    std err          z      P>|z|      [0.025      0.975]\n",
       "------------------------------------------------------------------------------\n",
       "Intercept      1.2917      0.364      3.552      0.000       0.579       2.005\n",
       "x              0.0757      0.036      2.125      0.034       0.006       0.145\n",
       "==============================================================================\n",
       "\"\"\""
      ]
     },
     "execution_count": 31,
     "metadata": {},
     "output_type": "execute_result"
    }
   ],
   "source": [
    "model = smf.glm(\n",
    "    \"y ~ x\", # \"目的変数 ~ 説明変数\"\n",
    "    data, # 対象データのDF\n",
    "    family=sm.families.Poisson() # ポアソン回帰\n",
    ").fit()\n",
    "\n",
    "model.summary()"
   ]
  },
  {
   "cell_type": "markdown",
   "id": "dd25dd66-c00c-4b4b-92f8-60f48cbb8a39",
   "metadata": {
    "tags": []
   },
   "source": [
    "#### coef\n",
    "coefの項が推定値\n",
    "\n",
    "Interceptが切片 $\\beta_1$<br>, xが傾き $\\beta_2$に対応している\n",
    "\n",
    "最尤推定値は$\\beta_1=1.29, \\beta_2=0.0757$であるとわかる。\n",
    "$$\n",
    "log \\lambda_i = 1.29 + 0.0757 x_i\n",
    "$$\n",
    "\n",
    "#### Std error\n",
    "Std errorの項はパラメータの標準誤差の推定値<br>\n",
    "この場合には推定値$\\beta_1, \\beta_2$のばらつきを標準誤差で表したもの。<br>\n",
    "ここの標準誤差の意味：「同じ調査方法で同数の別データを取り直してみたりすると、最尤推定値も変わるので、そのばらつき具合」\n",
    "\n",
    "Q. ここでいうStd Errorって？<br>\n",
    "A. 対数尤度は最尤推定値で最大値となる凸関数であり、推定のばらつきが正規分布であると仮定して、対数尤度関数は最大値付近の形が正規分布に近いと仮定した場合にStd Errorが得られる\n",
    "\n",
    "#### z\n",
    "最尤推定値をStd Errorで除した値<br>\n",
    "これを用いてWald信頼区間を構築できて、推定値たちがゼロから十分に離れているかどうかの粗い目安になる\n",
    "\n",
    "Wald統計量とも呼ばれる<br>\n",
    "ロジスティック回帰とWald統計量について：https://best-biostatistics.com/correlation_regression/wald.html\n",
    "#### P > $\\mid z \\mid$\n",
    "\n",
    "このGLMの場合は、平均がz値の絶対値であり標準偏差が1の正規分布における<br>\n",
    "-∞ ~ 0のまでの値を取る確率の二倍<br>\n",
    "この確率が大きいほどz値がゼロに近くなり、推定値$\\beta_1, \\beta_2$がゼロに近いことを表現する１つの方法\n",
    "\n",
    "これをいわゆるP値に見立てて簡易的な検定に使う場合もある\n",
    "\n",
    "ある説明変数をモデルに含めるか否かの判断は、Wald信頼区間を用いるのではなく4章で紹介するモデル選択を使った方が良い<br>\n",
    "Wald => 当てはまりの改善<br>\n",
    "モデル選択 => この説明変数を入れるかどうか. 予測の改善\n",
    "\n",
    "#### Log-Likelihood = あてはまりの良さ\n",
    "\n",
    "最大対数尤度をあてはまりの良さと呼ぶ\n",
    "\n",
    "対数尤度$logL(\\beta_1, \\beta_2)$が最大になっているところ<br>\n",
    "今回の最大対数尤度は-235.4だとわかる"
   ]
  },
  {
   "cell_type": "markdown",
   "id": "be84bda0-98b0-4e4c-a864-c78f6692ec41",
   "metadata": {},
   "source": [
    "### 3.4.3 ポアソン回帰による予測\n",
    "\n",
    "さまざまな体サイズxにおける平均種子数$\\lambda$の予測をする<br>\n",
    "平均種子数$\\lambda$の関数に推定値$\\beta_1, \\beta_2$を代入した関数\n",
    "$$\n",
    "\\lambda = exp(1.29 + 0.0757x)\n",
    "$$\n",
    "を散布図上で図示した"
   ]
  },
  {
   "cell_type": "code",
   "execution_count": 42,
   "id": "2412978c-d050-46cc-aeae-9f09b05298ff",
   "metadata": {},
   "outputs": [
    {
     "data": {
      "image/png": "[encoded data removed]",
      "text/plain": [
       "<Figure size 432x288 with 1 Axes>"
      ]
     },
     "metadata": {
      "needs_background": "light"
     },
     "output_type": "display_data"
    }
   ],
   "source": [
    "# 散布図\n",
    "plt.scatter(data[data['f']=='C']['x'], data[data['f']=='C']['y'], marker='o', label='C')\n",
    "plt.scatter(data[data['f']=='T']['x'], data[data['f']=='T']['y'], marker='x', label='T')\n",
    "plt.legend(loc='best')\n",
    "\n",
    "x = np.linspace( 7, 13, 70)   # linspace(min, max, N) で範囲 min から max を N 分割します\n",
    "y = np.exp(1.29 + 0.0757*x)\n",
    "plt.plot(x,y)\n",
    "\n",
    "\n",
    "plt.show()"
   ]
  },
  {
   "cell_type": "markdown",
   "id": "4a866fa6-cf64-46c3-8825-400e55f4aebf",
   "metadata": {},
   "source": [
    "予測線が上書きされた"
   ]
  },
  {
   "cell_type": "markdown",
   "id": "1c8239c5-9442-4cad-a21a-b9cc7638658b",
   "metadata": {
    "tags": []
   },
   "source": [
    "## 3.5 説明変数が因子型の統計モデル\n",
    "\n",
    "因子型の説明変数はダミー変数に置き換えられる<br>\n",
    "\n",
    "植物の体サイズ$x_i$の効果を無視して、施肥効果$f_i$だけが影響するモデルの平均値が以下の式で表される\n",
    "$$\n",
    "\\lambda_i = exp(\\beta_1 + \\beta_3d_i)\n",
    "$$\n",
    "係数$\\beta_1$は切片、$\\beta_3$は施肥効果の有無を表す\n",
    "\n",
    "$$\n",
    "\\begin{equation}\n",
    " d_i = \\left \\{\n",
    " \\begin{array}{l}\n",
    " 0　(f_i＝Cのとき) \\\\\n",
    " 1　(f_i=Tのとき)\n",
    " \\end{array}\n",
    " \\right.\n",
    " \\end{equation} \n",
    "$$ \n",
    "処理なし$(f_i＝C)$の場合は $\\lambda_i = exp(\\beta_1)$<br>\n",
    "施肥処理した$(f_i＝T)$の場合は $\\lambda_i = exp(\\beta_1+\\beta_3)$<br>\n"
   ]
  },
  {
   "cell_type": "code",
   "execution_count": 46,
   "id": "b8063ed8-d291-4336-9d1d-55915a56b612",
   "metadata": {},
   "outputs": [
    {
     "data": {
      "text/html": [
       "<table class=\"simpletable\">\n",
       "<caption>Generalized Linear Model Regression Results</caption>\n",
       "<tr>\n",
       "  <th>Dep. Variable:</th>           <td>y</td>        <th>  No. Observations:  </th>  <td>   100</td>  \n",
       "</tr>\n",
       "<tr>\n",
       "  <th>Model:</th>                  <td>GLM</td>       <th>  Df Residuals:      </th>  <td>    98</td>  \n",
       "</tr>\n",
       "<tr>\n",
       "  <th>Model Family:</th>         <td>Poisson</td>     <th>  Df Model:          </th>  <td>     1</td>  \n",
       "</tr>\n",
       "<tr>\n",
       "  <th>Link Function:</th>          <td>Log</td>       <th>  Scale:             </th> <td>  1.0000</td> \n",
       "</tr>\n",
       "<tr>\n",
       "  <th>Method:</th>                <td>IRLS</td>       <th>  Log-Likelihood:    </th> <td> -237.63</td> \n",
       "</tr>\n",
       "<tr>\n",
       "  <th>Date:</th>            <td>Sun, 17 Apr 2022</td> <th>  Deviance:          </th> <td>  89.475</td> \n",
       "</tr>\n",
       "<tr>\n",
       "  <th>Time:</th>                <td>13:02:41</td>     <th>  Pearson chi2:      </th>  <td>  87.1</td>  \n",
       "</tr>\n",
       "<tr>\n",
       "  <th>No. Iterations:</th>          <td>4</td>        <th>  Pseudo R-squ. (CS):</th> <td>0.0003192</td>\n",
       "</tr>\n",
       "<tr>\n",
       "  <th>Covariance Type:</th>     <td>nonrobust</td>    <th>                     </th>     <td> </td>    \n",
       "</tr>\n",
       "</table>\n",
       "<table class=\"simpletable\">\n",
       "<tr>\n",
       "      <td></td>         <th>coef</th>     <th>std err</th>      <th>z</th>      <th>P>|z|</th>  <th>[0.025</th>    <th>0.975]</th>  \n",
       "</tr>\n",
       "<tr>\n",
       "  <th>Intercept</th> <td>    2.0516</td> <td>    0.051</td> <td>   40.463</td> <td> 0.000</td> <td>    1.952</td> <td>    2.151</td>\n",
       "</tr>\n",
       "<tr>\n",
       "  <th>f[T.T]</th>    <td>    0.0128</td> <td>    0.071</td> <td>    0.179</td> <td> 0.858</td> <td>   -0.127</td> <td>    0.153</td>\n",
       "</tr>\n",
       "</table>"
      ],
      "text/plain": [
       "<class 'statsmodels.iolib.summary.Summary'>\n",
       "\"\"\"\n",
       "                 Generalized Linear Model Regression Results                  \n",
       "==============================================================================\n",
       "Dep. Variable:                      y   No. Observations:                  100\n",
       "Model:                            GLM   Df Residuals:                       98\n",
       "Model Family:                 Poisson   Df Model:                            1\n",
       "Link Function:                    Log   Scale:                          1.0000\n",
       "Method:                          IRLS   Log-Likelihood:                -237.63\n",
       "Date:                Sun, 17 Apr 2022   Deviance:                       89.475\n",
       "Time:                        13:02:41   Pearson chi2:                     87.1\n",
       "No. Iterations:                     4   Pseudo R-squ. (CS):          0.0003192\n",
       "Covariance Type:            nonrobust                                         \n",
       "==============================================================================\n",
       "                 coef    std err          z      P>|z|      [0.025      0.975]\n",
       "------------------------------------------------------------------------------\n",
       "Intercept      2.0516      0.051     40.463      0.000       1.952       2.151\n",
       "f[T.T]         0.0128      0.071      0.179      0.858      -0.127       0.153\n",
       "==============================================================================\n",
       "\"\"\""
      ]
     },
     "execution_count": 46,
     "metadata": {},
     "output_type": "execute_result"
    }
   ],
   "source": [
    "# pythonではダミー変数作成などを特に作成する必要なく、モデル式を作成できる\n",
    "\n",
    "model = smf.glm(\n",
    "    \"y ~ f\", # \"目的変数 ~ 説明変数\"\n",
    "    data, # 対象データのDF\n",
    "    family=sm.families.Poisson() # ポアソン回帰\n",
    ").fit()\n",
    "\n",
    "model.summary()"
   ]
  },
  {
   "cell_type": "markdown",
   "id": "39f3ff25-a483-4af7-92cb-58d23266936d",
   "metadata": {},
   "source": [
    "Intercept: 切片<br>\n",
    "f[T,T]: 施肥効果の係数名 => 説明変数$f_i$がT水準でとる値\n",
    "\n",
    "$f_i$がCならば\n",
    "$$\n",
    "\\lambda_i = exp(2.05 + 0) = exp(2.05) = 7.77\n",
    "$$\n",
    "$f_i$がTならば\n",
    "$$\n",
    "\\lambda_i = exp(2.05 + 0.0128) = exp(2.0628) = 7.87\n",
    "$$\n",
    "推定されたモデルでは「肥料をやると平均種子数がほんの少しだけ増える」と予測している\n",
    "\n",
    "このモデルの最大対数尤度 (= Log-Likelihood)は -237.63\n",
    "\n",
    "体サイズ効果のモデルの最大対数尤度は-235.4なので<br>\n",
    "体サイズのモデルのあてはまり > 施肥効果のモデルのあてはまり　となっている\n",
    "\n"
   ]
  },
  {
   "cell_type": "markdown",
   "id": "240bf8fc-fa17-4daa-a83a-03f8cb9fa93f",
   "metadata": {},
   "source": [
    "## 3.6 説明変数が数量型 + 因子型の統計モデル\n",
    "\n"
   ]
  }
 ],
 "metadata": {
  "kernelspec": {
   "display_name": "Python 3 (ipykernel)",
   "language": "python",
   "name": "python3"
  },
  "language_info": {
   "codemirror_mode": {
    "name": "ipython",
    "version": 3
   },
   "file_extension": ".py",
   "mimetype": "text/x-python",
   "name": "python",
   "nbconvert_exporter": "python",
   "pygments_lexer": "ipython3",
   "version": "3.9.7"
  }
 },
 "nbformat": 4,
 "nbformat_minor": 5
}
