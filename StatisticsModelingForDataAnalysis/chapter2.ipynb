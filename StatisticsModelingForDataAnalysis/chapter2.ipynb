{
 "cells": [
  {
   "cell_type": "markdown",
   "id": "ec712c43-4e12-4d6a-87de-3035741b835b",
   "metadata": {},
   "source": [
    "# 第二章　確率分布と統計モデルの最尤推定"
   ]
  },
  {
   "cell_type": "code",
   "execution_count": 1,
   "id": "51b403e6-cb31-4feb-b484-3dc1002a7405",
   "metadata": {},
   "outputs": [],
   "source": [
    "import requests\n",
    "import math\n",
    "import numpy as np\n",
    "import pandas as pd\n",
    "import matplotlib.pyplot as plt\n",
    "from scipy.stats import poisson"
   ]
  },
  {
   "cell_type": "markdown",
   "id": "53ac6d77-e44f-46c8-87d4-ee2a14ea5cda",
   "metadata": {},
   "source": [
    "# 2.1 種子数の統計モデリング"
   ]
  },
  {
   "cell_type": "code",
   "execution_count": 17,
   "id": "324a207a-b3c1-4dc8-a52f-612d44ac2f82",
   "metadata": {},
   "outputs": [
    {
     "data": {
      "text/html": [
       "<div>\n",
       "<style scoped>\n",
       "    .dataframe tbody tr th:only-of-type {\n",
       "        vertical-align: middle;\n",
       "    }\n",
       "\n",
       "    .dataframe tbody tr th {\n",
       "        vertical-align: top;\n",
       "    }\n",
       "\n",
       "    .dataframe thead th {\n",
       "        text-align: right;\n",
       "    }\n",
       "</style>\n",
       "<table border=\"1\" class=\"dataframe\">\n",
       "  <thead>\n",
       "    <tr style=\"text-align: right;\">\n",
       "      <th></th>\n",
       "      <th>count</th>\n",
       "      <th>mean</th>\n",
       "      <th>std</th>\n",
       "      <th>min</th>\n",
       "      <th>25%</th>\n",
       "      <th>50%</th>\n",
       "      <th>75%</th>\n",
       "      <th>max</th>\n",
       "    </tr>\n",
       "  </thead>\n",
       "  <tbody>\n",
       "    <tr>\n",
       "      <th>0</th>\n",
       "      <td>50.0</td>\n",
       "      <td>3.56</td>\n",
       "      <td>1.72804</td>\n",
       "      <td>0.0</td>\n",
       "      <td>2.0</td>\n",
       "      <td>3.0</td>\n",
       "      <td>4.75</td>\n",
       "      <td>7.0</td>\n",
       "    </tr>\n",
       "  </tbody>\n",
       "</table>\n",
       "</div>"
      ],
      "text/plain": [
       "   count  mean      std  min  25%  50%   75%  max\n",
       "0   50.0  3.56  1.72804  0.0  2.0  3.0  4.75  7.0"
      ]
     },
     "execution_count": 17,
     "metadata": {},
     "output_type": "execute_result"
    }
   ],
   "source": [
    "# 教科書のデータを手動で作成\n",
    "flower_data = [2,2,4,6,4,5,2,3,1,2,0,4,3,3,3,3,4,2,7,2,4,3,3,3,4,3,7,5,3,1,7,6,4,6,5,2,4,7,2,2,6,2,4,5,4,5,1,3,2,3]\n",
    "\n",
    "# pandasを使ってsummaryを出力\n",
    "pd.DataFrame(pd.Series(flower_data).describe()).transpose()"
   ]
  },
  {
   "cell_type": "code",
   "execution_count": 20,
   "id": "8547073a-7803-4c75-8e34-d9eb31bfd8e3",
   "metadata": {},
   "outputs": [
    {
     "data": {
      "image/png": "[encoded data removed]",
      "text/plain": [
       "<Figure size 432x288 with 1 Axes>"
      ]
     },
     "metadata": {
      "needs_background": "light"
     },
     "output_type": "display_data"
    }
   ],
   "source": [
    "# ヒストグラムを描画\n",
    "plt.hist(flower_data, bins=np.arange(-0.5, 8))\n",
    "plt.show()"
   ]
  },
  {
   "cell_type": "code",
   "execution_count": 32,
   "id": "77899f05-ba89-4f87-80c6-6a83ec0d4933",
   "metadata": {},
   "outputs": [],
   "source": [
    "# https://www.self-study-blog.com/dokugaku/python-pandas-numpy-frequency-table/\n",
    "# このサイトを参考に度数分布表を作成する関数を作成\n",
    "def frequency_table(data, stur=False):\n",
    "  data_len = len(data)\n",
    "  print('データ数：', data_len)\n",
    "  #スタージェンスの公式でbinの数を求める\n",
    "  if stur is True:\n",
    "    b = round(1 + np.log2(data_len))\n",
    "    hist, bins = np.histogram(data, bins=b)\n",
    "  else:\n",
    "    hist, bins = np.histogram(data)\n",
    "  #データフレーム作成\n",
    "  df = pd.DataFrame({'以上': bins[:-1],'以下': bins[1:],'階級値': (bins[:-1]+bins[1:])/2,'度数': hist})\n",
    "  #相対度数の計算\n",
    "  df['相対度数'] = df['度数'] / data_len\n",
    "  #累積度数の計算\n",
    "  df['累積度数'] = np.cumsum(df['度数'])\n",
    "  #累積相対度数の計算\n",
    "  df['累積相対度数'] = np.cumsum(df['相対度数'])\n",
    "  return df"
   ]
  },
  {
   "cell_type": "code",
   "execution_count": 27,
   "id": "f6fe9d77-dcab-4720-8788-63e5a76f2e19",
   "metadata": {},
   "outputs": [
    {
     "name": "stdout",
     "output_type": "stream",
     "text": [
      "データ数： 50\n"
     ]
    },
    {
     "data": {
      "text/html": [
       "<div>\n",
       "<style scoped>\n",
       "    .dataframe tbody tr th:only-of-type {\n",
       "        vertical-align: middle;\n",
       "    }\n",
       "\n",
       "    .dataframe tbody tr th {\n",
       "        vertical-align: top;\n",
       "    }\n",
       "\n",
       "    .dataframe thead th {\n",
       "        text-align: right;\n",
       "    }\n",
       "</style>\n",
       "<table border=\"1\" class=\"dataframe\">\n",
       "  <thead>\n",
       "    <tr style=\"text-align: right;\">\n",
       "      <th></th>\n",
       "      <th>以上</th>\n",
       "      <th>以下</th>\n",
       "      <th>階級値</th>\n",
       "      <th>度数</th>\n",
       "      <th>相対度数</th>\n",
       "      <th>累積度数</th>\n",
       "      <th>累積相対度数</th>\n",
       "    </tr>\n",
       "  </thead>\n",
       "  <tbody>\n",
       "    <tr>\n",
       "      <th>0</th>\n",
       "      <td>0.0</td>\n",
       "      <td>0.7</td>\n",
       "      <td>0.35</td>\n",
       "      <td>1</td>\n",
       "      <td>0.02</td>\n",
       "      <td>1</td>\n",
       "      <td>0.02</td>\n",
       "    </tr>\n",
       "    <tr>\n",
       "      <th>1</th>\n",
       "      <td>0.7</td>\n",
       "      <td>1.4</td>\n",
       "      <td>1.05</td>\n",
       "      <td>3</td>\n",
       "      <td>0.06</td>\n",
       "      <td>4</td>\n",
       "      <td>0.08</td>\n",
       "    </tr>\n",
       "    <tr>\n",
       "      <th>2</th>\n",
       "      <td>1.4</td>\n",
       "      <td>2.1</td>\n",
       "      <td>1.75</td>\n",
       "      <td>11</td>\n",
       "      <td>0.22</td>\n",
       "      <td>15</td>\n",
       "      <td>0.30</td>\n",
       "    </tr>\n",
       "    <tr>\n",
       "      <th>3</th>\n",
       "      <td>2.1</td>\n",
       "      <td>2.8</td>\n",
       "      <td>2.45</td>\n",
       "      <td>0</td>\n",
       "      <td>0.00</td>\n",
       "      <td>15</td>\n",
       "      <td>0.30</td>\n",
       "    </tr>\n",
       "    <tr>\n",
       "      <th>4</th>\n",
       "      <td>2.8</td>\n",
       "      <td>3.5</td>\n",
       "      <td>3.15</td>\n",
       "      <td>12</td>\n",
       "      <td>0.24</td>\n",
       "      <td>27</td>\n",
       "      <td>0.54</td>\n",
       "    </tr>\n",
       "    <tr>\n",
       "      <th>5</th>\n",
       "      <td>3.5</td>\n",
       "      <td>4.2</td>\n",
       "      <td>3.85</td>\n",
       "      <td>10</td>\n",
       "      <td>0.20</td>\n",
       "      <td>37</td>\n",
       "      <td>0.74</td>\n",
       "    </tr>\n",
       "    <tr>\n",
       "      <th>6</th>\n",
       "      <td>4.2</td>\n",
       "      <td>4.9</td>\n",
       "      <td>4.55</td>\n",
       "      <td>0</td>\n",
       "      <td>0.00</td>\n",
       "      <td>37</td>\n",
       "      <td>0.74</td>\n",
       "    </tr>\n",
       "    <tr>\n",
       "      <th>7</th>\n",
       "      <td>4.9</td>\n",
       "      <td>5.6</td>\n",
       "      <td>5.25</td>\n",
       "      <td>5</td>\n",
       "      <td>0.10</td>\n",
       "      <td>42</td>\n",
       "      <td>0.84</td>\n",
       "    </tr>\n",
       "    <tr>\n",
       "      <th>8</th>\n",
       "      <td>5.6</td>\n",
       "      <td>6.3</td>\n",
       "      <td>5.95</td>\n",
       "      <td>4</td>\n",
       "      <td>0.08</td>\n",
       "      <td>46</td>\n",
       "      <td>0.92</td>\n",
       "    </tr>\n",
       "    <tr>\n",
       "      <th>9</th>\n",
       "      <td>6.3</td>\n",
       "      <td>7.0</td>\n",
       "      <td>6.65</td>\n",
       "      <td>4</td>\n",
       "      <td>0.08</td>\n",
       "      <td>50</td>\n",
       "      <td>1.00</td>\n",
       "    </tr>\n",
       "  </tbody>\n",
       "</table>\n",
       "</div>"
      ],
      "text/plain": [
       "    以上   以下   階級値  度数  相対度数  累積度数  累積相対度数\n",
       "0  0.0  0.7  0.35   1  0.02     1    0.02\n",
       "1  0.7  1.4  1.05   3  0.06     4    0.08\n",
       "2  1.4  2.1  1.75  11  0.22    15    0.30\n",
       "3  2.1  2.8  2.45   0  0.00    15    0.30\n",
       "4  2.8  3.5  3.15  12  0.24    27    0.54\n",
       "5  3.5  4.2  3.85  10  0.20    37    0.74\n",
       "6  4.2  4.9  4.55   0  0.00    37    0.74\n",
       "7  4.9  5.6  5.25   5  0.10    42    0.84\n",
       "8  5.6  6.3  5.95   4  0.08    46    0.92\n",
       "9  6.3  7.0  6.65   4  0.08    50    1.00"
      ]
     },
     "execution_count": 27,
     "metadata": {},
     "output_type": "execute_result"
    }
   ],
   "source": [
    "frequency_table(flower_data)"
   ]
  },
  {
   "cell_type": "code",
   "execution_count": 28,
   "id": "3cc39648-b24a-422c-a2cf-59e8537327d2",
   "metadata": {},
   "outputs": [
    {
     "data": {
      "text/plain": [
       "2.9264000000000006"
      ]
     },
     "execution_count": 28,
     "metadata": {},
     "output_type": "execute_result"
    }
   ],
   "source": [
    "# 標本分散を出力\n",
    "np.var(flower_data)"
   ]
  },
  {
   "cell_type": "code",
   "execution_count": 30,
   "id": "d51871df-c043-4cf6-b08b-0f2cdd7a0f74",
   "metadata": {},
   "outputs": [
    {
     "data": {
      "text/plain": [
       "1.710672382427448"
      ]
     },
     "execution_count": 30,
     "metadata": {},
     "output_type": "execute_result"
    }
   ],
   "source": [
    "# 標本標準偏差を出力\n",
    "np.std(flower_data)"
   ]
  },
  {
   "cell_type": "code",
   "execution_count": 31,
   "id": "8a8c99ed-fcd5-4566-b653-c4b726691135",
   "metadata": {},
   "outputs": [
    {
     "data": {
      "text/plain": [
       "1.710672382427448"
      ]
     },
     "execution_count": 31,
     "metadata": {},
     "output_type": "execute_result"
    }
   ],
   "source": [
    "# 標本標準偏差 = √標本分散\n",
    "\n",
    "np.sqrt(np.var(flower_data))"
   ]
  },
  {
   "cell_type": "markdown",
   "id": "c18b976a-f8a5-4345-ae82-1d667ff98b96",
   "metadata": {},
   "source": [
    "# 2.2 データと確率分布の対応関係を眺める\n",
    "\n",
    "**確率分布とは**<br>\n",
    "確率変数の値とそれが出現する確率を対応させたもの<br>\n",
    "今回だと、ある植物個体iの種子数$y_i$のように個体ごとにばらつく変数\n",
    "\n",
    "種子数の分布はポアソン分布に対応するらしいので、とりあえずポアソン分布で色々考えていく"
   ]
  },
  {
   "cell_type": "code",
   "execution_count": 35,
   "id": "7399ee22-234c-4ac9-8785-17ebb6cbd753",
   "metadata": {},
   "outputs": [
    {
     "data": {
      "image/png": "[encoded data removed]",
      "text/plain": [
       "<Figure size 432x288 with 1 Axes>"
      ]
     },
     "metadata": {
      "needs_background": "light"
     },
     "output_type": "display_data"
    }
   ],
   "source": [
    "# 平均3.56のポアソン分布を作成\n",
    "poisson_values = np.random.poisson(lam=3.56, size=10000)\n",
    "prod = (pd.value_counts(poisson_values) / 10000).sort_index()\n",
    "plt.plot(prod.index, prod.values)\n",
    "plt.show()"
   ]
  },
  {
   "cell_type": "markdown",
   "id": "d774bce9-a6c1-4d6c-96f6-5b7f67769402",
   "metadata": {},
   "source": [
    "⬆︎<br>\n",
    "ある植物の種子数がゼロである確率は0.03くらい<br>\n",
    "一番確率が高くなるのは1個体に3個の種子を持つときで確率は0.21くらい"
   ]
  },
  {
   "cell_type": "code",
   "execution_count": 37,
   "id": "d335cf48-5771-4137-888d-663fa9f8720d",
   "metadata": {},
   "outputs": [
    {
     "data": {
      "image/png": "[encoded data removed]",
      "text/plain": [
       "<Figure size 432x288 with 2 Axes>"
      ]
     },
     "metadata": {
      "needs_background": "light"
     },
     "output_type": "display_data"
    }
   ],
   "source": [
    "# ヒストグラムと重ねる\n",
    "fig, ax1 = plt.subplots()\n",
    "plt.hist(flower_data, bins=np.arange(-0.5, 8), color=['y'])\n",
    "ax2 = ax1.twinx()\n",
    "ax2.plot(prod)\n",
    "plt.show()"
   ]
  },
  {
   "cell_type": "code",
   "execution_count": null,
   "id": "bddb2cff-2f3e-4009-8111-fb56182a877f",
   "metadata": {},
   "outputs": [],
   "source": []
  }
 ],
 "metadata": {
  "kernelspec": {
   "display_name": "Python 3 (ipykernel)",
   "language": "python",
   "name": "python3"
  },
  "language_info": {
   "codemirror_mode": {
    "name": "ipython",
    "version": 3
   },
   "file_extension": ".py",
   "mimetype": "text/x-python",
   "name": "python",
   "nbconvert_exporter": "python",
   "pygments_lexer": "ipython3",
   "version": "3.9.7"
  }
 },
 "nbformat": 4,
 "nbformat_minor": 5
}
