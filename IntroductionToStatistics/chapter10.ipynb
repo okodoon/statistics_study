{
 "cells": [
  {
   "cell_type": "markdown",
   "id": "44535d22-707a-475a-8cbf-b02d89860570",
   "metadata": {},
   "source": [
    "# 第十章　正規分布からの標本"
   ]
  },
  {
   "cell_type": "markdown",
   "id": "33e46d8b-a882-4e46-b31e-5eba074ca1b7",
   "metadata": {},
   "source": [
    "### 正規分布の性質\n",
    "\n",
    "正規分布を統計で使う理由\n",
    "- 分析の対象が正規分布で洗わせることが多い（身長）\n",
    "- 体重や所得の分布のように変数変換によって正規分布で表せるものが多い\n",
    "- 多くの統計量は確率変数の和の形になっているものが多く、このような統計量の標本分布は中心極限定理より漸近的に正規分布である\n",
    "- 数学的扱いが容易である\n",
    "\n"
   ]
  },
  {
   "cell_type": "markdown",
   "id": "57a69c6e-5177-4dea-8fb6-ea6284deda4c",
   "metadata": {},
   "source": [
    "## 分散が既知の場合の標本平均の標本分布\n",
    "\n",
    "$$\n",
    "Z = \\frac{\\bar{X}-\\mu}{\\sigma/\\sqrt{n}}\n",
    "$$\n",
    "\n",
    "Zは分散が既知の場合の標準化変数\n",
    "\n",
    "$\\bar{X}$の分布は$N(\\mu, \\frac{\\sigma^{2}}{n})$に従う<br>\n",
    "\n"
   ]
  },
  {
   "cell_type": "markdown",
   "id": "7349f09c-dddf-4e2f-95e0-e1804ff27674",
   "metadata": {},
   "source": [
    "### 標本分散の標本分布\n",
    "\n",
    "### χ二乗分布\n",
    "\n",
    "$\\chi^{2} = Z_1^{2} + Z_2^{2} + ... + Z_n^{2}$\n",
    "\n",
    "正規標本論で標本分散を扱うときに必ず関係してくる確率分布\n",
    "\n",
    "##### χ二乗分布の標本分散\n",
    "\n"
   ]
  },
  {
   "cell_type": "markdown",
   "id": "b71665b2-347d-41be-803a-564729c4ba07",
   "metadata": {},
   "source": [
    "## 分散が未知の場合の標本平均の標本分布\n",
    "\n",
    "母集団の分散がわかることなんてほぼない<br>\n",
    "母分散の代わりに標本分散を用いて、統計量を記述したい\n",
    "\n",
    "$$\n",
    "t = \\frac{\\bar{X}-\\mu}{\\sqrt{\\sigma^{2}/n}}\n",
    "$$\n",
    "\n",
    "これをt統計量と呼ぶ\n",
    "\n",
    "t統計量の確率分布は\n",
    "$$\n",
    "t = \\frac{Z}{\\sqrt{Y/k}}\n",
    "$$\n",
    "である。Zは標準正規分布に従い、Yは自由度kのχ二乗分布に従う\n",
    "\n",
    "分子は標準正規分布に乗り<br>\n",
    "分母はχ二乗分布に乗る"
   ]
  },
  {
   "cell_type": "markdown",
   "id": "65ae0f88-aed1-4cab-8ec9-4d89aa7062b0",
   "metadata": {},
   "source": [
    "## 2標本問題\n",
    "\n",
    "$N(\\mu_1 , \\sigma_1^{2})$, $N(\\mu_2 , \\sigma_2^{2})$\n",
    "のような母集団があるとする\n",
    "\n",
    "$\\bar{X} = X_1, X_2, X_3,...$の第1標本<br>\n",
    "$\\bar{Y} = Y_1, Y_2, Y_3,...$の第2標本\n",
    "\n",
    "\n",
    "### 標本平均の差の標本分布\n",
    "\n",
    "$\\mu_1 - \\mu_2$を分析することが重要だから<br>\n",
    "$\\bar{X} - \\bar{Y}$を分析する\n"
   ]
  },
  {
   "cell_type": "markdown",
   "id": "ad52c473-eae1-4aed-abab-32e8317c2cce",
   "metadata": {},
   "source": [
    "#### 母分散が既知の場合\n",
    "$\\bar{X}, \\bar{Y}$の分布は正規分布$N(\\mu_1, \\sigma_1^{2}), N(\\mu_2, \\sigma_2^{2})$に乗る\n",
    "\n",
    "\n",
    "$$\n",
    "Z = \\frac{(\\bar{X}-\\bar{Y})-(\\mu_{1}-\\mu_{2})}{\\sqrt{(\\frac{\\sigma_{1}^2}{m})+(\\frac{\\sigma_{2}^2}{n})}}\n",
    "$$\n",
    "標準化変数ZはN(0,1)である\n",
    "\n",
    "#### 母分散は未知であるが等しい時\n",
    "\n",
    "$\\sigma_1^{2} = \\sigma_2^{2} = \\sigma^{2}$であると仮定できるとき<br>\n",
    "\n",
    "$\\bar{X} - \\bar{Y}$の分布は$N(\\mu_1 - \\mu_2, (1/m + 1/N)\\sigma^{2})$に乗る\n",
    "\n",
    "合併した分散で推定を行う\n",
    "\n",
    "$$s^{2}=\\frac{\\sum_{i=1}^{m}(X_i - \\bar{X})^{2} + \\sum_{j=1}^{n}(Y_j - \\bar{Y})^{2}}{m+n-2}$$\n",
    "\n",
    "$$s^{2}=\\frac{(m-1)s_1^{2} + (n-1)s_2^{2}}{m+n-2}$$\n",
    "\n",
    "この式変換はここの「プールした分散」を参照\n",
    "https://toketarou.com/t_test/\n",
    "\n",
    "\n",
    "- $(m+n-2)s^{2}/\\sigma^{2}$は自由度m+n-2のχ二乗分布$\\chi^{2}(m+n-2)$に従う（よくわからん）<br>\n",
    "- $s^{2}$と$\\bar{X}-\\bar{Y}$は独立である\n",
    "\n",
    "\n",
    "標準化すると\n",
    "$$\n",
    "Z = \\frac{(\\bar{X}-\\bar{Y})-(\\mu_{1}-\\mu_{2})}{\\sqrt{((\\frac{1}{m})+(\\frac{1}{n}))\\sigma^{2}}}\n",
    "$$\n",
    "このZは標準正規分布に乗る\n",
    "$$\n",
    "t = \\frac{Z}{\\sqrt{s^{2}/\\sigma^{2}}}\n",
    "$$\n",
    "とすると<br>\n",
    "$(m+n-2)s^{2}/\\sigma^{2}$は自由度m+n-2のχ二乗分布$\\chi^{2}(m+n-2)$に従う<br>\n",
    "ルールより、標準正規分布/χ二乗分布の形となり、t分布: t(m+n-2)として扱えるようになる\n",
    "$$\n",
    "t=\\frac{(\\bar{X} - \\bar{Y}) - (\\mu_1 - \\mu_2)}{s\\sqrt{\\frac{1}{m}+\\frac{1}{n}}}\n",
    "$$"
   ]
  },
  {
   "cell_type": "markdown",
   "id": "93ed7a4d-fe06-4456-8e58-27e692b240d7",
   "metadata": {},
   "source": [
    "#### 母分散が未知であり等しいとは限らない場合\n",
    "\n",
    "ウェルチの近似法で近似して求めるしかない\n",
    "\n",
    "$$\n",
    "Z = \\frac{(\\bar{X}-\\bar{Y})-(\\mu_{1}-\\mu_{2})}{\\sqrt{(\\frac{\\sigma_{1}^2}{m})+(\\frac{\\sigma_{2}^2}{n})}}\n",
    "$$\n",
    "に対して各々の標本分散を代入すると\n",
    "$$\n",
    "s_1^2 = \\frac{\\sum_{i=1}^{m}({X_i - \\bar{X}})^{2}}{(m-1)}\n",
    "$$\n",
    "$$\n",
    "s_2^2 = \\frac{\\sum_{j=1}^{n}({Y_j - \\bar{Y}})^{2}}{(n-1)}\n",
    "$$\n",
    "\n",
    "$$\n",
    "t=\\frac{(\\bar{X} - \\bar{Y}) - (\\mu_1 - \\mu_2)}{\\sqrt{\\frac{s_1^{2}}{m}+\\frac{s_2^{2}}{n}}}\n",
    "$$\n",
    "\n",
    "$$\n",
    "\\nu = \\frac{\\left( \\frac{s_1^2}{m} + \\frac{s_2^2}{n} \\right)^2}\n",
    "{\\frac{ \\left( \\frac{s_1^2}{m} \\right)^2}{m - 1} + \n",
    "\\frac{\\left( \\frac{s_2^2}{n}\\right)^2}{n - 1}}\n",
    "$$\n",
    "に最も近い整数$\\nu^{*}$のt分布$t({\\nu^{*}})$に従うことが知られている"
   ]
  },
  {
   "cell_type": "markdown",
   "id": "3fb735c8-c7a9-4fe4-9b04-9a3ae02ef7ab",
   "metadata": {},
   "source": [
    "### 標本分散の比の標本分布\n",
    "\n",
    "分散が等しければ正確な推定ができるので、分散の比が知りたい<br>\n",
    "なぜなら、$s_1^{2}/s_2^{2}$が1付近なら、$\\sigma_1^{2}/\\sigma_2^{2}=1$であることが推量されるから\n",
    "\n",
    "二つの分散は独立で（ワカル）それぞれχ二乗分布に従うから（ワカラン）<br>\n",
    "χ二乗分布に従う確率変数の比の確率分布が必要となる\n",
    "\n",
    "それがF分布である\n",
    "\n",
    "- Uは自由度$k_1$の$\\chi^2$分布$\\chi^2(k_1)$に従う\n",
    "- Vは自由度$k_2$の$\\chi^2$分布$\\chi^2(k_2)$に従う\n",
    "- UとVは独立である\n",
    "\n",
    "UとVをそれぞれの自由度で割って調整した後に取った比 => フィッシャーの分散比\n",
    "\n",
    "$$\n",
    "F = \\frac{U/k_1}{V/k2}\n",
    "$$\n",
    "\n",
    "が従う確率分布を自由度$(k_1, k_2)$のF分布という. $F(k_1, k_2)$で表す\n",
    "\n",
    "- $(m-1)s_1^{2}/\\sigma_1^{2}$は自由度m-1の$\\chi^2$分布$\\chi^2(m_1)$に従う\n",
    "- $(n-1)s_2^{2}/\\sigma_2^{2}$は自由度n-1の$\\chi^2$分布$\\chi^2(n_1)$に従う\n",
    "ことがわかっている。(教科書P２００参照)<br>\n",
    "これらを代入すると\n",
    "\n",
    "$$\n",
    "F = \\frac{U/k_1}{V/k2} = \\frac{\\sigma_2^{2}}{\\sigma_1^{2}}･\\frac{s_1^{2}}{s_2^{2}}\n",
    "$$\n",
    "\n",
    "自由度(m-1, n-1)のF分布：F(m-1, n-1)に従う<br>\n",
    "母分散が等しい時は\n",
    "\n",
    "$$\n",
    "F=s_1^{2}/s_2^{2}\n",
    "$$\n",
    "の標本分布となる\n",
    "\n",
    "標本分散の比から母集団分散の比が等しい確率をF分布から導き出せる\n",
    "\n"
   ]
  },
  {
   "cell_type": "code",
   "execution_count": null,
   "id": "b4ff4df6-7fc9-45df-a668-c644bd758bad",
   "metadata": {},
   "outputs": [],
   "source": []
  },
  {
   "cell_type": "code",
   "execution_count": null,
   "id": "a67a1875-d9f9-4e1d-9d3d-88f0a80d56a7",
   "metadata": {},
   "outputs": [],
   "source": []
  },
  {
   "cell_type": "code",
   "execution_count": null,
   "id": "5e498fd7-64e5-474e-a98b-49dfa1da64e8",
   "metadata": {},
   "outputs": [],
   "source": []
  },
  {
   "cell_type": "code",
   "execution_count": null,
   "id": "0cd2f5c0-f29c-4e48-a55e-1f6c800b67aa",
   "metadata": {},
   "outputs": [],
   "source": []
  },
  {
   "cell_type": "markdown",
   "id": "97123170-f48d-4cb1-8d7b-46e8799f9e51",
   "metadata": {},
   "source": [
    "### 参考\n",
    "\n",
    "正規分布の式\n",
    "$$\n",
    "f(\\bar{X}) = \\frac{1}{\\sqrt{2\\pi \\sigma^2}} \\exp \\left(-\\frac{(\\bar{X} - \\mu)^2}\n",
    "{2\\sigma^2} \\right) \\hspace{20px} (-\\infty < x < \\infty)\n",
    "$$\n",
    "\n",
    "標準正規分布の式\n",
    "$$\n",
    "f(x)=\\frac{1}{\\sqrt{2π}}e^{-\\frac{x^{2}}{2}}\n",
    "$$\n",
    "\n"
   ]
  },
  {
   "cell_type": "code",
   "execution_count": null,
   "id": "1eb83a69-0d56-4e62-b180-07610c6278d0",
   "metadata": {},
   "outputs": [],
   "source": []
  }
 ],
 "metadata": {
  "kernelspec": {
   "display_name": "Python 3 (ipykernel)",
   "language": "python",
   "name": "python3"
  },
  "language_info": {
   "codemirror_mode": {
    "name": "ipython",
    "version": 3
   },
   "file_extension": ".py",
   "mimetype": "text/x-python",
   "name": "python",
   "nbconvert_exporter": "python",
   "pygments_lexer": "ipython3",
   "version": "3.9.7"
  }
 },
 "nbformat": 4,
 "nbformat_minor": 5
}
