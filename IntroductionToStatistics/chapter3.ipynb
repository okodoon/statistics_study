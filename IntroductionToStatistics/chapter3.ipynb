{
 "cells": [
  {
   "cell_type": "markdown",
   "id": "63e22044-1555-4887-8ea6-102b98143ff5",
   "metadata": {},
   "source": [
    "# 第三章　二次元のデータ"
   ]
  },
  {
   "cell_type": "markdown",
   "id": "423f68ae-2dec-4b32-aec2-263a0fee5786",
   "metadata": {},
   "source": [
    "### 相関\n",
    "2変数x,yの間に区別を設けずに対等に見る\n",
    "\n",
    "=> 「相関がある」は相関係数が1, -1に近くなるときに言うイメージでこの日本語とは食い違う\n",
    "\n",
    "### 回帰\n",
    "\n",
    "xからyが決定される様子や程度\n"
   ]
  },
  {
   "cell_type": "markdown",
   "id": "8040400e-2aae-42b9-8c73-58a10f4ad513",
   "metadata": {},
   "source": [
    "## 相関係数\n",
    "\n",
    "相関の程度を示す指標<br>\n",
    "複数定義があるが、よく用いられるのは**ピアソンの積率相関係数**で、通常相関係数はこれを指す\n",
    "\n",
    "相関係数は常に絶対値１以内に収まる"
   ]
  },
  {
   "cell_type": "markdown",
   "id": "d1aa4e3f-5ec6-4402-bd01-f710032983da",
   "metadata": {},
   "source": [
    "$$\n",
    "    r_{xy} = \\sqrt({x_i - \\bar{x}})\n",
    "$$"
   ]
  },
  {
   "cell_type": "markdown",
   "id": "ecef27b6-f7d2-488b-b9cb-e4c2111e1c98",
   "metadata": {},
   "source": [
    "corr は correlation の　corr"
   ]
  },
  {
   "cell_type": "code",
   "execution_count": 2,
   "id": "11ab2f5a-4715-4f38-b108-328ec713a01b",
   "metadata": {},
   "outputs": [
    {
     "name": "stdout",
     "output_type": "stream",
     "text": [
      "[6, 0, 2, 9, 5, 7, 8, 8, 1, 8]\n",
      "[4, 6, 1, 3, 5, 0, 1, 8, 2, 2]\n",
      "-0.06441566264008308\n"
     ]
    },
    {
     "data": {
      "text/plain": [
       "0.23385611715924406"
      ]
     },
     "execution_count": 2,
     "metadata": {},
     "output_type": "execute_result"
    }
   ],
   "source": [
    "import pandas as pd\n",
    "import numpy as np\n",
    "\n",
    "# テスト用のリストを作る\n",
    "l1=list(np.random.randint(0, 10, 10))\n",
    "l2=list(np.random.randint(0, 10, 10))\n",
    "\n",
    "# 作ったlist\n",
    "print(l1)\n",
    "[4, 6, 0, 8, 6, 2, 0, 3, 3, 5]\n",
    "print(l2)\n",
    "[4, 6, 3, 7, 8, 4, 6, 9, 0, 0]\n",
    "\n",
    "# リストをps.Seriesに変換\n",
    "s1=pd.Series(l1)\n",
    "s2=pd.Series(l2)\n",
    "\n",
    "# pandasを使用してPearson's rを計算\n",
    "res=s1.corr(s2)   # numpy.float64 に格納される\n",
    "\n",
    "# 結果\n",
    "print(res)\n",
    "0.23385611715924406"
   ]
  },
  {
   "cell_type": "markdown",
   "id": "39da1586-2d0d-4c66-b5d9-27b2f6a9372a",
   "metadata": {},
   "source": [
    "## 共分散\n",
    "covariance\n",
    "\n",
    "偏差積の合計<br>\n",
    "相関係数の式の分子"
   ]
  },
  {
   "cell_type": "markdown",
   "id": "e1490810-876d-4df5-a285-c18d4acf4ad3",
   "metadata": {},
   "source": [
    "## 偏相関係数\n",
    "\n",
    "x,y,zとあったときに<br>\n",
    "z <=> x <br>\n",
    "z <=> y <br>\n",
    "に相関があったときに、x<=>yに強く相関が出てしまう\n",
    "\n",
    "偏相関係数とは、zの効果を取り除いたx,yの相関係数のこと"
   ]
  },
  {
   "cell_type": "markdown",
   "id": "6673f66e-c03a-4742-8399-f8816a230ae5",
   "metadata": {},
   "source": [
    "## 順位相関係数\n",
    "\n",
    "順位間の相関を示す\n",
    "\n",
    "\n",
    "順位の順番が完全に一致しているとき +1, 完全に逆の時 -1をして、足し合わせる"
   ]
  },
  {
   "cell_type": "code",
   "execution_count": 4,
   "id": "a0231cf5-53c4-4aec-aac4-cd735cf56788",
   "metadata": {},
   "outputs": [
    {
     "data": {
      "text/plain": [
       "0.6727272727272727"
      ]
     },
     "execution_count": 4,
     "metadata": {},
     "output_type": "execute_result"
    }
   ],
   "source": [
    "import numpy as np\n",
    "\n",
    "math    = [6, 4, 5, 10, 2, 8, 3, 9, 1, 7]\n",
    "english = [10, 1, 4, 9, 3, 8, 6, 5, 2, 7]\n",
    "\n",
    "def spearman(math, english):\n",
    "    math = np.array(math)\n",
    "    english = np.array(english)\n",
    "    N = len(math)\n",
    "\n",
    "    return 1 - (6*sum((math -english)**2) / (N*(N**2 - 1)))\n",
    "\n",
    "spearman(math ,english)"
   ]
  },
  {
   "cell_type": "markdown",
   "id": "6f1a0111-1e3f-4ec2-bc13-c13a90fc0446",
   "metadata": {},
   "source": [
    "# 自己相関\n",
    "\n",
    "lag1の自己相関係数が1ならば？　=> 現在のデータは一つ前のデータと比較して必ず大きくなる<br>\n",
    "lag6の自己相関係数が-1ならば？ => 現在のデータは6個前のデータと比較して必ず小さくなる<br>"
   ]
  },
  {
   "cell_type": "code",
   "execution_count": 17,
   "id": "3c86d1d4-4545-41eb-bc15-6babf716bb84",
   "metadata": {},
   "outputs": [
    {
     "name": "stdout",
     "output_type": "stream",
     "text": [
      "[ 1  2  3  4  5  6  7  8  9 10  1  2  3  4  5  6  7  8  9 10  1  2  3  4\n",
      "  5  6  7  8  9 10]\n"
     ]
    }
   ],
   "source": [
    "# 1から10を3回繰り返す1次元arrayを作ります。\n",
    "\n",
    "import numpy as np\n",
    "a = np.arange(1,11)\n",
    "b = np.tile(a, 3)\n",
    "\n",
    "print(b)"
   ]
  },
  {
   "cell_type": "code",
   "execution_count": 9,
   "id": "6fb68b79-d3d3-4c98-8626-329bc2576ee9",
   "metadata": {},
   "outputs": [],
   "source": [
    "# ラグがkのデータとの自己相関を求めるautocorrelation関数を作ります。\n",
    "\n",
    "def autocorrelation(data, k):\n",
    "    \"\"\"Returns the autocorrelation of the *k*th lag in a time series data.\n",
    "\n",
    "    Parameters\n",
    "    ----------\n",
    "    data : one dimentional numpy array\n",
    "    k : the *k*th lag in the time series data (indexing starts at 0)\n",
    "    \"\"\"\n",
    "\n",
    "    # yの平均\n",
    "    y_avg = np.mean(data)\n",
    "\n",
    "    # 分子の計算\n",
    "    sum_of_covariance = 0\n",
    "    for i in range(k+1, len(data)):\n",
    "        covariance = ( data[i] - y_avg ) * ( data[i-(k+1)] - y_avg )\n",
    "        sum_of_covariance += covariance\n",
    "\n",
    "    # 分母の計算\n",
    "    sum_of_denominator = 0\n",
    "    for u in range(len(data)):\n",
    "        denominator = ( data[u] - y_avg )**2\n",
    "        sum_of_denominator += denominator\n",
    "\n",
    "    return sum_of_covariance / sum_of_denominator"
   ]
  },
  {
   "cell_type": "code",
   "execution_count": 11,
   "id": "eaed700e-7f4f-4f18-a3a1-13451a76f83b",
   "metadata": {},
   "outputs": [
    {
     "name": "stdout",
     "output_type": "stream",
     "text": [
      "-0.4292929292929293\n",
      "0.6666666666666666\n"
     ]
    }
   ],
   "source": [
    "# 4番目のラグ、9番目のラグとの自己相関を求めてみます。\n",
    "\n",
    "print(autocorrelation(b, 4))\n",
    "\n",
    "print(autocorrelation(b, 9))\n"
   ]
  },
  {
   "cell_type": "code",
   "execution_count": 15,
   "id": "efaaedaf-f6ee-48ad-9ede-5c0f225d6eef",
   "metadata": {},
   "outputs": [],
   "source": [
    "# グラフ上ではラグのない自身との相関を1として表示させたいのでacorr_dataに「1」を最初に入れておきます。\n",
    "\n",
    "acorr_data = [1]\n",
    "for i in range(29):  # ラグをとったデータは29個あるのでrange(29)となります。\n",
    "    acorr_data.append(autocorrelation(b, i))\n",
    "\n",
    "# 後で使いやすいようにacorr_dataをnumpyのarrayに変換しておきます。\n",
    "acorr_data = np.asarray(acorr_data)"
   ]
  },
  {
   "cell_type": "code",
   "execution_count": 16,
   "id": "ac0f3e22-5c58-45ea-8e22-8282decf0887",
   "metadata": {},
   "outputs": [
    {
     "data": {
      "text/plain": [
       "<StemContainer object of 3 artists>"
      ]
     },
     "execution_count": 16,
     "metadata": {},
     "output_type": "execute_result"
    },
    {
     "data": {
      "image/png": "[encoded data removed]",
      "text/plain": [
       "<Figure size 432x288 with 1 Axes>"
      ]
     },
     "metadata": {
      "needs_background": "light"
     },
     "output_type": "display_data"
    }
   ],
   "source": [
    "%matplotlib inline\n",
    "import matplotlib.pyplot as plt\n",
    "plt.stem(np.arange(30), acorr_data, use_line_collection=True)"
   ]
  },
  {
   "cell_type": "markdown",
   "id": "326b6f00-3b2a-45dc-a164-908c50bff9fa",
   "metadata": {},
   "source": [
    "⬆︎ これをコレログラムと呼ぶ"
   ]
  },
  {
   "cell_type": "markdown",
   "id": "607b2d13-2d48-4e9f-a40d-737643ab68d3",
   "metadata": {},
   "source": [
    "# 最小二乗法による直線の当てはめ\n",
    "\n",
    "2変数x,yの回帰を表現する最も当てはまりがいい直線を引くこと<br>\n",
    "\n",
    "$$\n",
    "    y = bx + a\n",
    "$$\n",
    "\n",
    "$$\n",
    "    L = \\sum_{i=1}^{n} (y_i - (bx_i + a))\n",
    "$$\n",
    "\n",
    "で表される二乗和を最小にするような直線"
   ]
  },
  {
   "cell_type": "markdown",
   "id": "dadcbe6f-fbfb-4d8f-b0aa-52776d810b68",
   "metadata": {},
   "source": [
    "### 決定係数\n",
    "\n",
    "回帰と相関の考えにはつながりがあり、回帰係数を変形すると\n",
    "\n",
    "$$\n",
    "    b = r\\frac{S_x}{S_y}\n",
    "$$\n",
    "\n",
    "と言う関係が成立する\n",
    "\n",
    "\n",
    "- 「全変動」：実際のデータとデータ全体の平均値との差を表します（上の図の緑の部分）\n",
    "- 「回帰変動」：推定された回帰式から得られた予測値とデータ全体の平均値の差を表します（上の図の紫の部分）\n",
    "- 「残差変動」：実際のデータと推定された回帰式から得られた予測値との差を表します（上の図の赤の部分）\n",
    "\n",
    "「回帰変動が全変動に対してどれだけ多いか＝残差変動が全変動に対してどれだけ少ないか」を表すもの\n",
    "\n",
    "「全変動」＝「回帰変動」＋「残差変動」の関係が成り立つ<br>\n",
    "この式を展開すると\n",
    "$$\n",
    "    R^2 = \\frac{回帰変動}{全変動}\n",
    "$$\n",
    "\n",
    "R = 相関係数, R^2 = 決定係数"
   ]
  },
  {
   "cell_type": "code",
   "execution_count": null,
   "id": "9a6e368b-0674-4d4c-9b06-b76190ed1f2b",
   "metadata": {},
   "outputs": [],
   "source": []
  }
 ],
 "metadata": {
  "kernelspec": {
   "display_name": "Python 3 (ipykernel)",
   "language": "python",
   "name": "python3"
  },
  "language_info": {
   "codemirror_mode": {
    "name": "ipython",
    "version": 3
   },
   "file_extension": ".py",
   "mimetype": "text/x-python",
   "name": "python",
   "nbconvert_exporter": "python",
   "pygments_lexer": "ipython3",
   "version": "3.9.7"
  }
 },
 "nbformat": 4,
 "nbformat_minor": 5
}
