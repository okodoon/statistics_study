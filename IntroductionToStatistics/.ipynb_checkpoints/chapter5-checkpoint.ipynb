{
 "cells": [
  {
   "cell_type": "markdown",
   "id": "40310b07-71bc-40b9-a627-0e5242a1be91",
   "metadata": {},
   "source": [
    "# 第五章　確率変数\n",
    "\n",
    "それが取る各値に対して、それぞれ確率が与えられている変数のこと<br>\n",
    "\n",
    "サイコロを振って出る目Xは確率変数<br>\n",
    "$$\n",
    "P(X=1) = p_1, P(X=2) = p_2, ..., p(X=6) = p_6\n",
    "$$\n",
    "<br>\n",
    "$$\n",
    "p_1 \\geqq 0, p_2 \\geqq 0, ..., p_6 \\geqq 0\n",
    "$$\n",
    "$$\n",
    "p_1 + p_2 + p_3 + p_4 + p_5 + p_6 = 1\n",
    "$$"
   ]
  },
  {
   "cell_type": "markdown",
   "id": "7fed3c81-4eb6-4407-890e-a82b5b89c666",
   "metadata": {},
   "source": [
    "確率分布の描画でわかりやすいサイト\n",
    "https://qiita.com/y_itoh/items/c388ff82360906240daf"
   ]
  },
  {
   "cell_type": "code",
   "execution_count": null,
   "id": "500249e3-31b0-4dae-aa35-88c812cf14c2",
   "metadata": {},
   "outputs": [],
   "source": [
    "import numpy as np\n",
    "from scipy import stats\n",
    "import matplotlib.pyplot as plt\n",
    "%matplotlib inline\n",
    "\n",
    "fig = plt.figure()\n",
    "ax = fig.add_subplot(111)\n",
    "\n",
    "left = [1,2,3,4,5,6]\n",
    "height = [1/6, 1/6, 1/6, 1/6, 1/6, 1/6]\n",
    "\n",
    "ax.bar(left, height, align=\"center\")\n",
    "fig.show()"
   ]
  },
  {
   "cell_type": "code",
   "execution_count": null,
   "id": "4dcdfd9a-ee74-45aa-8215-50941021204d",
   "metadata": {},
   "outputs": [],
   "source": []
  }
 ],
 "metadata": {
  "kernelspec": {
   "display_name": "Python 3 (ipykernel)",
   "language": "python",
   "name": "python3"
  },
  "language_info": {
   "codemirror_mode": {
    "name": "ipython",
    "version": 3
   },
   "file_extension": ".py",
   "mimetype": "text/x-python",
   "name": "python",
   "nbconvert_exporter": "python",
   "pygments_lexer": "ipython3",
   "version": "3.9.7"
  }
 },
 "nbformat": 4,
 "nbformat_minor": 5
}
