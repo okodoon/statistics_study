{
 "cells": [
  {
   "cell_type": "markdown",
   "id": "8a20d616-394a-4c63-93a5-777f82fba636",
   "metadata": {},
   "source": [
    "# 第13章　回帰分析"
   ]
  },
  {
   "cell_type": "markdown",
   "id": "2e05691a-d442-493e-8ede-90f4be4d82f5",
   "metadata": {},
   "source": [
    "## 回帰分析\n",
    "\n",
    "\n",
    "## 最小二乗法\n",
    "\n",
    "$$\n",
    "S = \\sum{Y_i - (\\beta_1 + \\beta_{2} X_i)}\n",
    "$$"
   ]
  },
  {
   "cell_type": "markdown",
   "id": "13281b57-602e-41fc-bcdd-4ff22fb55a4e",
   "metadata": {},
   "source": [
    "## 決定係数\n",
    "\n",
    "$$\n",
    "x_2 = 1 - \\frac{ \\sum\\hat{e_i}^2}{\\sum(Y_i - \\bar{Y})^2} = \\frac{\\sum(\\hat{Y_i} - \\bar{Y})^2}{\\sum(Y_i - \\bar{Y})^2}\n",
    "$$\n",
    "\n",
    "決定係数は0から1の間の値を取り得る\n",
    "\n",
    "$X_i$が$Y_i$を完全に説明しているとき、決定係数は1<br>\n",
    "全く説明できない場合、決定係数は0になる\n"
   ]
  },
  {
   "cell_type": "code",
   "execution_count": null,
   "id": "061f1147-32fa-4077-b1ca-48229586d9fb",
   "metadata": {},
   "outputs": [],
   "source": []
  }
 ],
 "metadata": {
  "kernelspec": {
   "display_name": "Python 3 (ipykernel)",
   "language": "python",
   "name": "python3"
  },
  "language_info": {
   "codemirror_mode": {
    "name": "ipython",
    "version": 3
   },
   "file_extension": ".py",
   "mimetype": "text/x-python",
   "name": "python",
   "nbconvert_exporter": "python",
   "pygments_lexer": "ipython3",
   "version": "3.9.7"
  }
 },
 "nbformat": 4,
 "nbformat_minor": 5
}
