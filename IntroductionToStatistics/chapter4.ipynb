{
 "cells": [
  {
   "cell_type": "markdown",
   "id": "6e20062c-e5df-484e-a93b-be5e64d6f258",
   "metadata": {},
   "source": [
    "# 第４章　確率"
   ]
  },
  {
   "cell_type": "markdown",
   "id": "8bc0d1b5-bfd5-481a-9d3c-88c4ea5e7036",
   "metadata": {},
   "source": [
    "### 順列と組み合わせ\n",
    "\n",
    "n個のものからr個を取る順列の数\n",
    "\n",
    "$$\n",
    "    _{n}P_{r} = n(n-1)(n-2)...(n-(r-1)) = \\frac{n!}{(n-r)!}\n",
    "$$\n",
    "\n",
    "n個のものからr個を取る組み合わせの数\n",
    "\n",
    "$$\n",
    "    _{n}C_{r} = \\frac{_{n}P_{r}}{r!} = \\frac{n!}{r!(n-r)!}\n",
    "$$\n",
    "\n",
    "$_{n}C_{r}$は二項分布の式に二項係数とも呼ばれる。\n",
    "\n",
    "\n",
    "$$\n",
    "   f(x) = _{n}C_{x}p^{x}(1-p)^{n-x}\n",
    "   　（二項分布の式）\n",
    "$$\n",
    "\n"
   ]
  },
  {
   "cell_type": "markdown",
   "id": "73ac32e9-e190-43d2-b0c0-d29bd025a892",
   "metadata": {
    "tags": []
   },
   "source": [
    "### 条件付き確率\n",
    "\n",
    "事象Bが起こったとわかっている場合に事象Aが起きる確率<br>\n",
    "= Bを条件とするAの条件付確率という\n",
    "\n",
    "Bが起こった上で、かつAが起きる確率なので以下の式になる\n",
    "$$\n",
    "    P(A \\mid B) = \\frac{P(B \\cap A)}{P(B)}\n",
    "$$"
   ]
  },
  {
   "cell_type": "markdown",
   "id": "267113b0-062f-447f-87de-2e1849705659",
   "metadata": {},
   "source": [
    "### 条件付き確率のケーススタディ\n",
    "\n",
    "1が書かれた白玉 × 2 <br>\n",
    "2が書かれた白玉 × 1 <br>\n",
    "1が書かれた黒玉 × 1 <br>\n",
    "2が書かれた黒玉 × 2 <br>\n",
    "\n",
    "取り出して白色であることだけがわかった。<br>\n",
    "この状態で1が出ることに賭けるべきか、2が出ることに賭けるべきか\n",
    "\n",
    "取り出した球が白玉である時に数字が1である確率\n",
    "$$\n",
    " P(1 \\mid 白) = \\frac{P(白 \\cap 1)}{P(白)} = \\frac{2/6}{1/2} = \\frac{2}{3}\n",
    "$$"
   ]
  },
  {
   "cell_type": "markdown",
   "id": "9af22fdb-25d9-42c1-b624-d4550c282adf",
   "metadata": {},
   "source": [
    "## 独立性"
   ]
  },
  {
   "cell_type": "markdown",
   "id": "b7fa7908-4bc2-4219-b2db-6d090f41e6e8",
   "metadata": {},
   "source": [
    "事象Aが起きる確率が他の事象Bに影響されない場合\n",
    "\n",
    "$$\n",
    "    P(A) = P(A \\mid B)\n",
    "$$\n",
    "\n",
    "である場合、この事象は独立であるという\n",
    "独立である場合\n",
    "$$\n",
    "    P(A \\cap B) = P(A)\\cdot P(B)\n",
    "$$\n",
    "\n",
    "このように積事象の確率を二つの事象の確率の積として表すことができる"
   ]
  },
  {
   "cell_type": "markdown",
   "id": "2061773b-d343-4e1b-aaca-3a09657a873a",
   "metadata": {},
   "source": [
    "## ベイズの定理\n",
    "\n",
    "得られた結果・データを$A$<br>\n",
    "原因・仮説を$H$とする<br>\n",
    "ベイズの定理が成り立つ\n",
    "\n",
    "$$\n",
    "P(H \\mid A) = \\frac{P(A \\mid H)P(H)}{P(A)}\n",
    "$$\n",
    "\n",
    "$P(H)$: 事前確率 (事前分布)<br>\n",
    "$P(A \\mid H)$: 尤度 (=> その事象の起こりやすさ)<br>\n",
    "$P(H \\mid A)$: 事後確率（事後分布）<br>\n",
    "$P(A)$: エビデンス, 証拠\n",
    "\n",
    "**事前確率**<br>\n",
    "データAを知る前にパラメータの値について知っていることを反映したもの。<br>\n",
    "何も知らないのであれば平坦な事前分布を用いる\n",
    "\n",
    "**尤度**<br>\n",
    "与えられたパラメータの尤もらしさ\n",
    "\n",
    "**事後分布**<br>\n",
    "ベイジアン分析の結果\n",
    "\n",
    "**エビデンス**<br>\n",
    "周辺尤度とも呼ぶ。<br>\n",
    "パラメータが取りうる全ての値にわたって平均化した観測データの確率<br>\n",
    "ベイジアン分析ではパラメータの相対的な値に関心があるため、簡略化されることも多い<br>\n",
    "その場合以下式に書き直せる\n",
    "$$\n",
    "p(H \\mid A) \\propto P(A \\mid H)P(H)\n",
    "$$"
   ]
  },
  {
   "cell_type": "markdown",
   "id": "ff65fc0e-014d-4df7-b507-524c979b39f6",
   "metadata": {},
   "source": [
    "### ベイズの定理・式拡張\n",
    "\n",
    "<img src=\"https://math.keicode.com/probability-statistics/img/conditional-probability-25.png\">\n",
    "\n",
    "\n",
    "今、全事象 SS が $S_1$, $S_2$, $S_3$ に分割され、かつ $S_1$, $S_2$, $S_3$ はどれも互いに素 (つまり、どれも重ならない) とします。\n",
    "\n",
    "このとき、ある事象 A について、\n",
    "\n",
    "$$ \\begin{aligned} A &= A \\cap S \\\\ &= A \\cap ( S_1 \\cup S_2 \\cup S_3 ) \\\\ &= (A \\cap S_1) \\cup (A \\cap S_2) \\cup (A \\cap S_3) \\\\ \\end{aligned}$$\n",
    "\n",
    "加法定理 $P(X \\cup Y) = P(X) + P(Y)$より<br>\n",
    "$$P(A) = \\sum{P(A \\cap S_i)}$$\n",
    "乗法定理 $P(X \\cap Y) = P(Y) \\cdot P(X \\mid Y)$より\n",
    "$$P(A) = \\sum{(P(S_i) \\cdot P(A \\mid S_i))}$$\n",
    "\n",
    "これらよりベイズの定理を書き直すと以下になる\n",
    "\n",
    "$$\n",
    "P(H \\mid A) = \\frac{P(A \\mid H_i)P(H_i)}{\\sum{(P(H_i) \\cdot P(A \\mid H_i))}}\n",
    "$$"
   ]
  },
  {
   "cell_type": "markdown",
   "id": "a2bbcae3-8600-4a24-bcc8-ee7275a1a986",
   "metadata": {},
   "source": [
    "### ベイズの定理・ケーススタディ\n",
    "\n",
    "白×3, 黒×1 のツボX<br>\n",
    "白×1, 黒×2 のツボY<br>\n",
    "どちらかから一つを取ったら白玉だった。どちらのツボだったか。\n",
    "\n",
    "ツボXから取り出す事象を$H_1$, ツボYから取り出す確率を$H_2$とする<br>\n",
    "いずれのツボを選ぶのも等しい確率なので、事前確率は$P(H_1) = P(H_2) = 1/2$<br>\n",
    "$P(A \\mid H_1) = 3/4$<br>\n",
    "$P(A \\mid H_2) = 1/3$<br>\n",
    "\n",
    "ツボXから取っている確率\n",
    "$$\n",
    "P(H_1 \\mid A) = \\frac{(1/2) \\cdot (3/4)}{(1/2) \\cdot (3/4) + (1/2) \\cdot (1/3)} = \\frac{9}{13}\n",
    "$$\n",
    "ツボYから取っている確率\n",
    "$$\n",
    "P(H_2 \\mid A) = \\frac{(1/2) \\cdot (1/3)}{(1/2) \\cdot (3/4) + (1/2) \\cdot (1/3)} = \\frac{4}{13}\n",
    "$$"
   ]
  },
  {
   "cell_type": "markdown",
   "id": "89135dec-5bd6-4ba0-91a7-95dc9443d498",
   "metadata": {},
   "source": []
  }
 ],
 "metadata": {
  "kernelspec": {
   "display_name": "Python 3 (ipykernel)",
   "language": "python",
   "name": "python3"
  },
  "language_info": {
   "codemirror_mode": {
    "name": "ipython",
    "version": 3
   },
   "file_extension": ".py",
   "mimetype": "text/x-python",
   "name": "python",
   "nbconvert_exporter": "python",
   "pygments_lexer": "ipython3",
   "version": "3.9.7"
  }
 },
 "nbformat": 4,
 "nbformat_minor": 5
}
