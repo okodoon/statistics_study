{
 "cells": [
  {
   "cell_type": "markdown",
   "id": "40310b07-71bc-40b9-a627-0e5242a1be91",
   "metadata": {},
   "source": [
    "# 第五章　確率変数\n",
    "\n",
    "それが取る各値に対して、それぞれ確率が与えられている変数のこと<br>\n",
    "\n",
    "サイコロを振って出る目Xは確率変数<br>\n",
    "$$\n",
    "P(X=1) = p_1, P(X=2) = p_2, ..., p(X=6) = p_6\n",
    "$$\n",
    "<br>\n",
    "$$\n",
    "p_1 \\geqq 0, p_2 \\geqq 0, ..., p_6 \\geqq 0\n",
    "$$\n",
    "$$\n",
    "p_1 + p_2 + p_3 + p_4 + p_5 + p_6 = 1\n",
    "$$"
   ]
  },
  {
   "cell_type": "code",
   "execution_count": 1,
   "id": "500249e3-31b0-4dae-aa35-88c812cf14c2",
   "metadata": {},
   "outputs": [
    {
     "data": {
      "image/png": "[encoded data removed]",
      "text/plain": [
       "<Figure size 432x288 with 1 Axes>"
      ]
     },
     "metadata": {
      "needs_background": "light"
     },
     "output_type": "display_data"
    }
   ],
   "source": [
    "import numpy as np\n",
    "from scipy import stats\n",
    "import matplotlib.pyplot as plt\n",
    "%matplotlib inline\n",
    "\n",
    "fig = plt.figure()\n",
    "ax = fig.add_subplot(111)\n",
    "\n",
    "left = [1,2,3,4,5,6]\n",
    "height = [1/6, 1/6, 1/6, 1/6, 1/6, 1/6]\n",
    "\n",
    "ax.bar(left, height, align=\"center\")\n",
    "fig.show()"
   ]
  },
  {
   "cell_type": "markdown",
   "id": "8b2c11ca-2078-44b1-b402-4bb7b97b0e46",
   "metadata": {},
   "source": [
    "サイコロの目の確率<br>\n",
    "離散型一様分布"
   ]
  },
  {
   "cell_type": "markdown",
   "id": "3ff790e7-b99e-4a07-baec-aeceff79af64",
   "metadata": {},
   "source": [
    "$$\n",
    "P(X=x_k) = f(x_k)　　(k=1,2,.....)\n",
    "$$\n",
    "\n",
    "これをXの確率分布と呼ぶ。\n",
    "\n",
    "$$\n",
    "f(x_k) \\geqq 0,　　(k=1,2,...)　かつ　\\sum_{k=1}^{\\infty}f(x_k)=1\n",
    "$$\n",
    "\n",
    "fはこの条件を満たし、このfを離散型の確率分布と呼ぶ。<br>\n",
    "二項分布、ポアソン分布、超幾何分布は離散型の確率分布"
   ]
  },
  {
   "cell_type": "markdown",
   "id": "c936524b-f82c-4543-b041-28068cc0458f",
   "metadata": {},
   "source": [
    "## 連続型の確率分布の式\n",
    "\n",
    "$$\n",
    "f(x_k) \\geqq 0　かつ　\\hspace{20px} \\int_{-{\\infty}}^{\\infty} f(x)dx = 1\n",
    "$$"
   ]
  },
  {
   "cell_type": "markdown",
   "id": "c58cdd67-a664-41e0-92fa-e62d2aa998fb",
   "metadata": {},
   "source": [
    "###  確率分布におけるモード(最頻値)\n",
    "\n",
    "$f(x)$を最大にする$x=x_0$\n",
    "この値が最も出る確率が高い"
   ]
  },
  {
   "cell_type": "markdown",
   "id": "523b67b0-c4ef-4d7d-86a5-de6fa4a49d30",
   "metadata": {},
   "source": [
    "## 期待値\n",
    "\n",
    "離散型確率変数の期待値\n",
    "$$\n",
    "E(X) = \\sum_x{xf(x)}\n",
    "$$\n",
    "\n",
    "連続型確率変数の期待値\n",
    "$$\n",
    "E(X) = \\int_{- \\infty}^{\\infty}xf(x)dx\n",
    "$$"
   ]
  },
  {
   "cell_type": "markdown",
   "id": "53c2ec5b-3954-4fdb-aa91-edf6a351fb49",
   "metadata": {},
   "source": [
    "期待値の演算における性質\n",
    "\n",
    "- $E(c) = c$\n",
    "- $E(X+c) = E(X) + c$\n",
    "- $E(cX) = cE(X)$\n",
    "- $E(X+Y) = E(X) + E(Y)"
   ]
  },
  {
   "cell_type": "markdown",
   "id": "5b1924d8-94d6-423c-a831-6ebb29918a65",
   "metadata": {},
   "source": [
    "### 確率変数の分散\n",
    "離散型の確率変数の分散\n",
    "$$\n",
    "V(X) = \\sum_{x}(x - \\mu)^2f(x)\n",
    "$$\n",
    "\n",
    "連続型の確率変数の分散\n",
    "$$\n",
    "V(X) = \\int_{-\\infty}^{\\infty}(x - \\mu)^2f(x)dx\n",
    "$$"
   ]
  },
  {
   "cell_type": "markdown",
   "id": "74cff805-f236-416a-aff4-7466576cffd2",
   "metadata": {},
   "source": [
    "# チェビシェフの不等式\n",
    "\n",
    "期待値と分散がわかっている時に、確率変数の\n",
    "\n",
    "$$\n",
    "    \\displaystyle P(|X-\\mu| \\geq k\\sigma) \\leq \\frac{1}{k^2}\n",
    "$$\n",
    "\n",
    "\n",
    "$\\mu = 1, \\sigma = 1/ルート３$\n",
    "$$\n",
    "    P(0 \\geqq X \\geqq 2) = P(|X - \\mu| \\leq ルート3 )\n",
    "$$"
   ]
  },
  {
   "cell_type": "code",
   "execution_count": null,
   "id": "a9cae8d3-bf29-4a5b-943e-81e96f79c8f1",
   "metadata": {},
   "outputs": [],
   "source": []
  }
 ],
 "metadata": {
  "kernelspec": {
   "display_name": "Python 3 (ipykernel)",
   "language": "python",
   "name": "python3"
  },
  "language_info": {
   "codemirror_mode": {
    "name": "ipython",
    "version": 3
   },
   "file_extension": ".py",
   "mimetype": "text/x-python",
   "name": "python",
   "nbconvert_exporter": "python",
   "pygments_lexer": "ipython3",
   "version": "3.9.7"
  }
 },
 "nbformat": 4,
 "nbformat_minor": 5
}
