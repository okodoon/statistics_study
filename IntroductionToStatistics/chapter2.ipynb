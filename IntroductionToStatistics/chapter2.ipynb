{
 "cells": [
  {
   "cell_type": "markdown",
   "metadata": {
    "tags": []
   },
   "source": [
    "# 第二章　一次元のデータ"
   ]
  },
  {
   "cell_type": "markdown",
   "metadata": {},
   "source": [
    "## 平均"
   ]
  },
  {
   "cell_type": "code",
   "execution_count": 11,
   "metadata": {},
   "outputs": [
    {
     "name": "stdout",
     "output_type": "stream",
     "text": [
      "4.0\n"
     ]
    }
   ],
   "source": [
    "import numpy as np\n",
    "\n",
    "fish_data = np.array([2,3,3,4,4,4,4,5,5,6])\n",
    "\n",
    "# 平均を出す sum_value / N\n",
    "avg = np.mean(fish_data)\n",
    "print(avg)"
   ]
  },
  {
   "cell_type": "markdown",
   "metadata": {
    "tags": []
   },
   "source": [
    "### 幾何平均\n",
    "\n",
    "比率の平均をとりたいような場合です。\n",
    "例えばGDPの成長率を計算したいような時"
   ]
  },
  {
   "cell_type": "code",
   "execution_count": 14,
   "metadata": {},
   "outputs": [
    {
     "data": {
      "text/plain": [
       "1.3282714663720916"
      ]
     },
     "execution_count": 14,
     "metadata": {},
     "output_type": "execute_result"
    }
   ],
   "source": [
    "from scipy import stats\n",
    "\n",
    "land_price = [1.218, 1.305, 1.536, 1.500, 1.129] # 東京の地価の年平均上昇率\n",
    "stats.gmean(land_price)"
   ]
  },
  {
   "cell_type": "markdown",
   "metadata": {},
   "source": [
    "### 調和平均\n",
    "\n",
    "平均速さを知りたい時"
   ]
  },
  {
   "cell_type": "code",
   "execution_count": 16,
   "metadata": {},
   "outputs": [
    {
     "name": "stdout",
     "output_type": "stream",
     "text": [
      "48.648648648648646\n"
     ]
    }
   ],
   "source": [
    "car_speed = [50, 60, 40]\n",
    "\n",
    "print(stats.hmean(car_speed))"
   ]
  },
  {
   "cell_type": "markdown",
   "metadata": {},
   "source": [
    "### メディアン\n",
    "\n",
    "中央値：観測値を小さいものから順に並び替えた時の中央の値"
   ]
  },
  {
   "cell_type": "code",
   "execution_count": 19,
   "metadata": {},
   "outputs": [
    {
     "name": "stdout",
     "output_type": "stream",
     "text": [
      "50.0\n",
      "2.0\n"
     ]
    }
   ],
   "source": [
    "car_speed = [50, 60, 40]\n",
    "seiseki = [1,2,2,2,2,2,2,4,100]\n",
    "\n",
    "speed_mean = np.median(car_speed)\n",
    "print(speed_mean)\n",
    "seiseki_mean = np.median(seiseki)\n",
    "print(seiseki_mean)\n",
    "# 4.4"
   ]
  },
  {
   "cell_type": "markdown",
   "metadata": {},
   "source": [
    "### パーセンタイル\n",
    "\n",
    "観測値を小さい順に並べ替えた時に小さい方から100p%のところにある値を\n",
    "\n",
    "100pパーセンタイル　または　百分位点"
   ]
  },
  {
   "cell_type": "code",
   "execution_count": 21,
   "metadata": {},
   "outputs": [
    {
     "name": "stdout",
     "output_type": "stream",
     "text": [
      "The 25th percentile is: 3\n",
      "The 50th percentile is: 5\n",
      "The 75th percentile is: 8\n",
      "The 30th percentile is: 3\n"
     ]
    }
   ],
   "source": [
    "import math\n",
    "\n",
    "arry=[1,2,3,4,5,6,7,8,9,10]\n",
    "\n",
    "def calculate_percentile(arry, percentile):\n",
    "    size = len(arry)\n",
    "    return sorted(arry)[int(math.ceil((size * percentile) / 100)) - 1]\n",
    "\n",
    "percentile_25 = calculate_percentile(arry, 25)\n",
    "percentile_50 = calculate_percentile(arry, 50) # median\n",
    "percentile_75 = calculate_percentile(arry, 75)\n",
    "percentile_30 = calculate_percentile(arry, 30)\n",
    "\n",
    "\n",
    "print(\"The 25th percentile is:\",percentile_25)\n",
    "print(\"The 50th percentile is:\",percentile_50)\n",
    "print(\"The 75th percentile is:\",percentile_75)\n",
    "print(\"The 30th percentile is:\",percentile_30)"
   ]
  },
  {
   "cell_type": "markdown",
   "metadata": {},
   "source": [
    "### モード\n",
    "最頻値：ヒストグラムの峰に対応する値"
   ]
  },
  {
   "cell_type": "code",
   "execution_count": 26,
   "metadata": {},
   "outputs": [
    {
     "data": {
      "text/plain": [
       "ModeResult(mode=array([2]), count=array([10]))"
      ]
     },
     "execution_count": 26,
     "metadata": {},
     "output_type": "execute_result"
    }
   ],
   "source": [
    "sample_data = [1,2,2,2,2,2,2,2,2,2,3,4,5,5,6,7,7,8,8,8,8,8,88,9,9,8,5,5,4,32,2,3]\n",
    "sp.stats.mode(sample_data)\n",
    "# モードの値とその出現回数を返す"
   ]
  },
  {
   "cell_type": "markdown",
   "metadata": {},
   "source": [
    "## 分散\n",
    "\n",
    "偏差の二乗の平均\n",
    "\n"
   ]
  },
  {
   "cell_type": "code",
   "execution_count": 29,
   "metadata": {},
   "outputs": [
    {
     "name": "stdout",
     "output_type": "stream",
     "text": [
      "43.55555555555555\n"
     ]
    }
   ],
   "source": [
    "a = np.array([10, 20, 12, 0, 3, 5])\n",
    "variance = np.var(a)\n",
    "print(variance)"
   ]
  },
  {
   "cell_type": "markdown",
   "metadata": {},
   "source": [
    "## 標準偏差\n",
    "\n",
    "分散のままだと測定単位が変わるため、単位を揃えるために平方根を取ったもの\n",
    "\n",
    "Standard deviation"
   ]
  },
  {
   "cell_type": "code",
   "execution_count": 31,
   "metadata": {},
   "outputs": [
    {
     "name": "stdout",
     "output_type": "stream",
     "text": [
      "6.599663291074443\n"
     ]
    }
   ],
   "source": [
    "a = np.array([10, 20, 12, 0, 3, 5])\n",
    "std = np.std(a)\n",
    "print(std)"
   ]
  },
  {
   "cell_type": "markdown",
   "metadata": {},
   "source": [
    "### 変動係数\n",
    "\n",
    "数のスケールが大きくなると、分散も大きくなってしまうので、分散/標準偏差同士の比較はできない <br>\n",
    "どのくらい相対的に大きくなっているかは変動係数で表される"
   ]
  },
  {
   "cell_type": "markdown",
   "metadata": {},
   "source": [
    "# 標準化\n",
    "\n",
    "データが正規分布に乗っていると仮定すると、正規分布は位置と大きさを変更しても正規分布のままなので<br>\n",
    "平均0 標準偏差1に揃えることで、分布同士の比較ができる。"
   ]
  },
  {
   "cell_type": "code",
   "execution_count": 36,
   "metadata": {},
   "outputs": [
    {
     "data": {
      "text/plain": [
       "array([ 0.25253814,  1.76776695,  0.5555839 , -1.26269068, -0.80812204,\n",
       "       -0.50507627])"
      ]
     },
     "execution_count": 36,
     "metadata": {},
     "output_type": "execute_result"
    }
   ],
   "source": [
    "a = np.array([10, 20, 12, 0, 3, 5])\n",
    "sp.stats.zscore(a)\n",
    "# 正規分布における位置を返す"
   ]
  },
  {
   "cell_type": "code",
   "execution_count": null,
   "metadata": {},
   "outputs": [],
   "source": []
  }
 ],
 "metadata": {
  "interpreter": {
   "hash": "31f2aee4e71d21fbe5cf8b01ff0e069b9275f58929596ceb00d14d90e3e16cd6"
  },
  "kernelspec": {
   "display_name": "Python 3 (ipykernel)",
   "language": "python",
   "name": "python3"
  },
  "language_info": {
   "codemirror_mode": {
    "name": "ipython",
    "version": 3
   },
   "file_extension": ".py",
   "mimetype": "text/x-python",
   "name": "python",
   "nbconvert_exporter": "python",
   "pygments_lexer": "ipython3",
   "version": "3.9.7"
  }
 },
 "nbformat": 4,
 "nbformat_minor": 4
}
