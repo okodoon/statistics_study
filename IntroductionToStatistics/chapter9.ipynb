{
 "cells": [
  {
   "cell_type": "markdown",
   "id": "510c37a7-bda4-4a60-9e85-c0c300a221c6",
   "metadata": {},
   "source": [
    "# 第九章　標本分布"
   ]
  },
  {
   "cell_type": "markdown",
   "id": "cad967e6-b3d9-4bae-9199-a8250af41302",
   "metadata": {},
   "source": [
    "## 母分散\n",
    "\n",
    "母集団の平均を$\\mu$とする<br>\n",
    "$X_1, X_2, ..,X_n$からなる標本分布のnが大きいと大数の法則からXの平均は$\\mu$"
   ]
  },
  {
   "cell_type": "markdown",
   "id": "5169fa95-0521-4761-927c-dec09b74791d",
   "metadata": {},
   "source": [
    "## 標本分散\n",
    "\n",
    "$$\n",
    "s^2 = \\frac{1}{n}\\{({X}_1-\\bar{X})^2+({X}_2-\\bar{X})^2+…+({X}_n-\\bar{X})^2\\}\n",
    "$$\n",
    "\n",
    "#### 不偏分散にするときにn-1で割る理由\n",
    "\n",
    "https://manabitimes.jp/math/1035\n",
    "\n",
    "<img src=\"https://res.cloudinary.com/bend/f_auto,q_auto/shikakutimes/s3/bend-image/1035_0_huhenbunsan-300x242.png\">"
   ]
  },
  {
   "cell_type": "markdown",
   "id": "4908dae9-da4b-4692-b65f-e67441df8404",
   "metadata": {},
   "source": [
    "## 不偏分散\n",
    "$$\n",
    "s^2 = \\frac{1}{n-1}\\{({X}_1-\\bar{X})^2+({X}_2-\\bar{X})^2+…+({X}_n-\\bar{X})^2\\}\n",
    "$$\n",
    "\n",
    "#### 自由度\n",
    "「自由に動ける変数の数」<br>\n",
    "\n",
    "$(X_1 - \\bar{X})+(X_2 - \\bar{X} + ... + (X_n - \\bar{X}) = 0$\n",
    "\n",
    "n-1個の変数がわかっていたら、$X_n$が取りうる値は確定してしまう<br>\n",
    "n-2個の変数がわかっていても、$X_n, X_{n-1}$がとりうる値は確定しない => 自由、無限大"
   ]
  },
  {
   "cell_type": "code",
   "execution_count": null,
   "id": "26e39099-4446-4286-98f3-c808081ea576",
   "metadata": {},
   "outputs": [],
   "source": []
  }
 ],
 "metadata": {
  "kernelspec": {
   "display_name": "Python 3 (ipykernel)",
   "language": "python",
   "name": "python3"
  },
  "language_info": {
   "codemirror_mode": {
    "name": "ipython",
    "version": 3
   },
   "file_extension": ".py",
   "mimetype": "text/x-python",
   "name": "python",
   "nbconvert_exporter": "python",
   "pygments_lexer": "ipython3",
   "version": "3.9.7"
  }
 },
 "nbformat": 4,
 "nbformat_minor": 5
}
