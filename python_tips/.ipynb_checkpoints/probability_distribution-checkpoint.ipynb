{
 "cells": [
  {
   "cell_type": "markdown",
   "id": "7bb36bcf-17e3-4dc4-b965-c913ad26ff7a",
   "metadata": {},
   "source": [
    "# 確率分布の描画の仕方\n",
    "\n",
    "\n",
    "確率分布の描画でわかりやすいサイト https://qiita.com/y_itoh/items/c388ff82360906240daf <br>\n",
    "scipy.statsの公式ドキュメント https://docs.scipy.org/doc/scipy/reference/stats.html"
   ]
  },
  {
   "cell_type": "markdown",
   "id": "96945fe7-354e-4df4-a995-1ed8837edd33",
   "metadata": {
    "jp-MarkdownHeadingCollapsed": true,
    "tags": []
   },
   "source": [
    "\n",
    "scipy.stats.`確率分布の種類メソッド`.`出力メソッド`<br>\n",
    "で確率分布に沿った色々なものを出力できる\n",
    "\n",
    "確率分布の種類メソッドの一覧\n",
    "\n",
    "| 確率分布 | probability distribution | 確率分布のメソッド名 | データ |\n",
    "| --- | --- | --- | --- |\n",
    "| 超幾何分布 | Hypergeometric distribution | scipy.stats.**hypergeom** | 離散型 |\n",
    "| ベルヌーイ分布 | Bernoulli distribution | scipy.stats.**bernoulli** | 離散型 |\n",
    "| 二項分布 | binomial distribution | scipy.stats.**binom** | 離散型 |\n",
    "| ポアソン分布 | Poisson distribution | scipy.stats.**poisson** | 離散型 |\n",
    "| 幾何分布 | Geometric Distribution | scipy.stats.**geom** | 離散型 |\n",
    "| 負の二項分布 | Negative Binomial Distribution | scipy.stats.**nbinom** | 離散型 |\n",
    "| 一様分布 | uniform distribution | scipy.stats.**uniform** | 離散型 |\n",
    "| 正規分布 | normal distribution | scipy.stats.**norm** | 連続型 |\n",
    "| 指数分布 | exponential distribution | scipy.stats.**expon** | 連続型 |\n",
    "| ガンマ分布 | gamma distribution | scipy.stats.**gamma** | 連続型 |\n",
    "| ベータ分布 | beta distribution | scipy.stats.**betabinom** | 連続型 |\n",
    "| コーシー分布 | Cauchy distribution | scipy.stats.**cauchy** | 連続型 |\n",
    "| 対数正規分布 | lognormal distribution | scipy.stats.**lognorm** | 連続型 |\n",
    "| パレート分布 | Pareto distribution | scipy.stats.**pareto** | 連続型 |\n",
    "| ワイブル分布 | Weibull distribution | scipy.stats.**dweibull** | 連続型 |\n",
    "\n",
    "出力メソッドの一覧\n",
    "\n",
    "| メソッド名 | 出力 | 解説 |\n",
    "| :---: | --- | --- |\n",
    "| rvs | 確率変数 | 分布に従う確率変数（取り得る値）を、ランダムに指定した個数だけ生成 |\n",
    "| pdf | 確率密度関数 | 定義された域内での確率変数Xの値の相対的な出やすさ<br>連続型のデータを引数にとると確率密度が算出される関数 |\n",
    "| pmf | 確率質量関数 | 確率変数Xのとびとびの要素ごとの相対的な出やすさ<br>確率質量関数は、離散型のデータを引数にとると確率質量が算出される関数 |\n",
    "| logpdf | ログ確率密度関数 | 底をeとする確率密度の対数 |\n",
    "| cdf  | 累積分布関数 | 確率変数XXがある値xx以下となる確率<br>サイコロを投げたときに「出る目が３以下」となる確率は、１から３までの確率密度をすべて足し合わせたもの |\n",
    "| sf | 生存関数 | 確率変数XXがある値xx以上となる確率 |\n",
    "| ppf | パーセント点関数 | 累積分布関数cdfの逆関数で、累積分布関数をq％と指定するとその値をとる変数<br>ppf(0.25)は第１四分位点、ppf(0.5)は中央値にあたる第２四分位点、ppf(0.75)は第３四分位点に相当 |\n",
    "| isf | 逆生存関数 | 逆生存関数は、生存関数sfの逆関数ですが、やることはパーセント点関数ppfと逆のことです。生存関数の残余をq％と指定するとその値をとる変数を返します。<br>四分位点はパーセント点関数ppfとは逆になり、isf(0.25)は第３四分位点、isf(0.5)は同じく第２四分位点、isf(0.75)は第１四分位点に相当 |\n",
    "| interval | 区間推定 | 実際のデータから計算される経験分布では、平均値も標準偏差も常に未知のものです。標本から得られた平均値が、<br>母集団における真の母数θθに近似できているか本当はわかりません<br>一定の確率のもとに母数θθを含む区間を求めること |\n"
   ]
  },
  {
   "cell_type": "code",
   "execution_count": 6,
   "id": "144d2a8b-daf1-4c26-b2f0-6ad90fb78036",
   "metadata": {},
   "outputs": [
    {
     "name": "stdout",
     "output_type": "stream",
     "text": [
      "Requirement already satisfied: japanize-matplotlib in /usr/local/lib/python3.9/site-packages (1.1.3)\n",
      "Requirement already satisfied: matplotlib in /usr/local/lib/python3.9/site-packages (from japanize-matplotlib) (3.5.1)\n",
      "Requirement already satisfied: kiwisolver>=1.0.1 in /usr/local/lib/python3.9/site-packages (from matplotlib->japanize-matplotlib) (1.3.2)\n",
      "Requirement already satisfied: python-dateutil>=2.7 in /usr/local/lib/python3.9/site-packages (from matplotlib->japanize-matplotlib) (2.8.2)\n",
      "Requirement already satisfied: cycler>=0.10 in /usr/local/lib/python3.9/site-packages (from matplotlib->japanize-matplotlib) (0.11.0)\n",
      "Requirement already satisfied: fonttools>=4.22.0 in /usr/local/lib/python3.9/site-packages (from matplotlib->japanize-matplotlib) (4.29.1)\n",
      "Requirement already satisfied: pillow>=6.2.0 in /usr/local/lib/python3.9/site-packages (from matplotlib->japanize-matplotlib) (9.0.1)\n",
      "Requirement already satisfied: numpy>=1.17 in /usr/local/lib/python3.9/site-packages (from matplotlib->japanize-matplotlib) (1.19.5)\n",
      "Requirement already satisfied: packaging>=20.0 in /usr/local/lib/python3.9/site-packages (from matplotlib->japanize-matplotlib) (21.3)\n",
      "Requirement already satisfied: pyparsing>=2.2.1 in /usr/local/lib/python3.9/site-packages (from matplotlib->japanize-matplotlib) (3.0.7)\n",
      "Requirement already satisfied: six>=1.5 in /usr/local/lib/python3.9/site-packages (from python-dateutil>=2.7->matplotlib->japanize-matplotlib) (1.16.0)\n",
      "\u001b[33mWARNING: Running pip as the 'root' user can result in broken permissions and conflicting behaviour with the system package manager. It is recommended to use a virtual environment instead: https://pip.pypa.io/warnings/venv\u001b[0m\u001b[33m\n",
      "\u001b[0m"
     ]
    }
   ],
   "source": [
    "# 数値計算のためのライブラリ\n",
    "import numpy as np\n",
    "from scipy import stats\n",
    "\n",
    "# グラフ描画のためのライブラリ\n",
    "import matplotlib.pyplot as plt\n",
    "%matplotlib inline\n",
    "\n",
    "# matplotlibを日本語表示に対応させるモジュール\n",
    "!pip install japanize-matplotlib\n",
    "import japanize_matplotlib"
   ]
  },
  {
   "cell_type": "markdown",
   "id": "2b671d40-4c7c-4f5e-98a7-2ab68ec530a1",
   "metadata": {},
   "source": [
    "# rvs (Randam Variables)"
   ]
  },
  {
   "cell_type": "code",
   "execution_count": 2,
   "id": "570f8268-374f-403f-ba05-4f2368a6ff43",
   "metadata": {},
   "outputs": [
    {
     "data": {
      "image/png": "[encoded data removed]",
      "text/plain": [
       "<Figure size 432x288 with 1 Axes>"
      ]
     },
     "metadata": {
      "needs_background": "light"
     },
     "output_type": "display_data"
    }
   ],
   "source": [
    "# rvsで正規分布に従う疑似乱数を生成\n",
    "norm_rvs = stats.norm.rvs(loc=50, scale=20, size=1000, random_state=0) # 期待値=50, 標準偏差=20, 個数=1000\n",
    "\n",
    "# 可視化（ヒストグラムに表現）\n",
    "plt.hist(norm_rvs, bins=10, alpha=0.3, ec='blue')\n",
    "plt.xlabel(\"階級\", fontsize=13)\n",
    "plt.ylabel(\"度数\", fontsize=13)\n",
    "\n",
    "plt.show()"
   ]
  },
  {
   "cell_type": "markdown",
   "id": "69ed3227-6faf-4e36-ab52-765a6d374f55",
   "metadata": {},
   "source": [
    "# pdf (Probability density function) \n",
    "\n",
    "参考：https://qiita.com/supersaiakujin/items/71540d1ecd60ced65add"
   ]
  },
  {
   "cell_type": "code",
   "execution_count": 21,
   "id": "723963a6-7790-47e5-b3ca-2c49e551de03",
   "metadata": {},
   "outputs": [
    {
     "data": {
      "image/png": "[encoded data removed]",
      "text/plain": [
       "<Figure size 432x288 with 1 Axes>"
      ]
     },
     "metadata": {
      "needs_background": "light"
     },
     "output_type": "display_data"
    }
   ],
   "source": [
    "# 等差数列を生成\n",
    "X = np.arange(start=1, stop=7.1, step=0.1)\n",
    "\n",
    "fig = plt.figure()\n",
    "ax = fig.add_subplot(111)\n",
    "x = np.linspace(-1,7,100)  # -1 ~ 7までを100分割した点を作成\n",
    "\n",
    "# 位置と区間はloc,scaleで指定する。loc, scaleを指定すると区間[loc, loc+scale]で確率が一定になる。pdfにより出力される値は1/scaleになる。\n",
    "uniform_pdf = stats.uniform.pdf(x,loc=0, scale=6)\n",
    "\n",
    "ax.plot(x,uniform_pdf, label='loc=0')\n",
    "\n",
    "fig.show()"
   ]
  },
  {
   "cell_type": "code",
   "execution_count": null,
   "id": "fee71d25-1502-42e1-97c8-50fd6c6ee692",
   "metadata": {},
   "outputs": [],
   "source": []
  }
 ],
 "metadata": {
  "kernelspec": {
   "display_name": "Python 3 (ipykernel)",
   "language": "python",
   "name": "python3"
  },
  "language_info": {
   "codemirror_mode": {
    "name": "ipython",
    "version": 3
   },
   "file_extension": ".py",
   "mimetype": "text/x-python",
   "name": "python",
   "nbconvert_exporter": "python",
   "pygments_lexer": "ipython3",
   "version": "3.9.7"
  }
 },
 "nbformat": 4,
 "nbformat_minor": 5
}
