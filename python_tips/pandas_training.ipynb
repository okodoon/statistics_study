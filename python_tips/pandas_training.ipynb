{
 "cells": [
  {
   "cell_type": "markdown",
   "id": "65605c52-a5b7-43dc-a2c6-b75623b71d6d",
   "metadata": {},
   "source": [
    "https://note.nkmk.me/python-pandas-query/"
   ]
  },
  {
   "cell_type": "code",
   "execution_count": null,
   "id": "b351d954-d29c-4236-a0fd-febc22c8bd63",
   "metadata": {},
   "outputs": [],
   "source": []
  }
 ],
 "metadata": {
  "kernelspec": {
   "display_name": "Python 3 (ipykernel)",
   "language": "python",
   "name": "python3"
  },
  "language_info": {
   "codemirror_mode": {
    "name": "ipython",
    "version": 3
   },
   "file_extension": ".py",
   "mimetype": "text/x-python",
   "name": "python",
   "nbconvert_exporter": "python",
   "pygments_lexer": "ipython3",
   "version": "3.9.7"
  }
 },
 "nbformat": 4,
 "nbformat_minor": 5
}
