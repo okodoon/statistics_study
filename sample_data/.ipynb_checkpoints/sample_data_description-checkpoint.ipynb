{
 "cells": [
  {
   "cell_type": "markdown",
   "id": "a326f1c1-f08b-4b82-8d74-c1cf4d5d69a7",
   "metadata": {},
   "source": [
    "# サンプルデータの説明"
   ]
  },
  {
   "cell_type": "markdown",
   "id": "d0fbea4b-9302-465d-be3d-4064752f557d",
   "metadata": {
    "jp-MarkdownHeadingCollapsed": true,
    "tags": []
   },
   "source": [
    "## score-nishioka-nakashima.csv\n",
    "\n",
    "西岡良仁選手のテニスの試合のスコアやポイント内容データ\n",
    "\n",
    "\n",
    "| カラム名 | 説明 |\n",
    "| --- | --- |\n",
    "| index | n番目のポイント |\n",
    "| StartFrame | 動画との対応フレーム開始位置（データ分析では無視してください） |\n",
    "| EndFrame | 動画との対応フレーム終了位置（データ分析では無視してください） |\n",
    "| Set | セット状況 |\n",
    "| Game | ゲーム状況 |\n",
    "| Score | スコア状況 |\n",
    "| ScoreResult | そのポイント結果結果を受けてのスコア状況 |\n",
    "| Side | DeuceサイドかAdサイドか |\n",
    "| FirstSecond | 1 1stサーブ、2 2ndサーブ |\n",
    "| Server | どちらのサーブか |\n",
    "| PointWinner | どちらの選手がポイントをとったか |\n",
    "| PointWinA | 選手Aのポイント　0 Lost,1 Won,2 DoubleFault |\n",
    "| PointWinB | 選手Bのポイント　0 Lost,1 Won,2 DoubleFault |\n",
    "| pointPattern | ポイント内容 |\n",
    "\n",
    "\n"
   ]
  },
  {
   "cell_type": "markdown",
   "id": "c858723e-e9d5-4c4f-a7ed-539bb6c13fc0",
   "metadata": {},
   "source": [
    "## shot-nishioka-nakashima.csv\n",
    "\n",
    "\n",
    "西岡良仁選手のテニスの試合の選手位置データ<br>\n",
    "ショットの着地点と選手の位置\n",
    "\n",
    "\n",
    "| カラム名 | 説明 |\n",
    "| --- | --- |\n",
    "| point | n番目のポイント |\n",
    "| frame | 動画との対応フレーム（データ分析では無視してください） |\n",
    "| ballx | ボール着地点x座標（Bounceのとき） |\n",
    "| bally | ボール着地点y座標（Bounceのとき） |\n",
    "| ballx | ボール打点位置x座標（Hitのとき） |\n",
    "| bally | ボール打点位置y座標（Hitのとき） |\n",
    "| playerAx | 選手Aの位置x座標（西岡） |\n",
    "| playerBx | 選手Bの位置y座標（ナカシマ） |\n",
    "| hitplayer | そのショットを打った選手がどちらか |\n",
    "| bouncehit | Hit・・・ボール打点、Bounce・・・ボール着地点 |\n",
    "\n",
    "<img src=\"shot_data_description_image.png\" width=\"300\" >"
   ]
  },
  {
   "cell_type": "markdown",
   "id": "6a3073c7-f111-44be-befd-cc9e64b5e27f",
   "metadata": {},
   "source": [
    "## iris-dataset.csv\n",
    "\n",
    "150個体分のIris(アヤメ)の『ガクの長さ(sepal length)』『ガクの幅(sepal width)』『花弁の長さ(Petal length)』『花弁の幅(petal width)』の4つの特徴とそれに対応する『花の種類(species)』がまとめられたデータセット\n",
    "\n",
    "| カラム名 | 説明 |\n",
    "| --- | --- |\n",
    "| sepal_length | ガクの長さ |\n",
    "| sepal_width | ガクの幅 |\n",
    "| petal_length | 花弁の長さ |\n",
    "| petal_width | 花弁の幅 |\n",
    "| species | 花の種類 |\n"
   ]
  }
 ],
 "metadata": {
  "kernelspec": {
   "display_name": "Python 3 (ipykernel)",
   "language": "python",
   "name": "python3"
  },
  "language_info": {
   "codemirror_mode": {
    "name": "ipython",
    "version": 3
   },
   "file_extension": ".py",
   "mimetype": "text/x-python",
   "name": "python",
   "nbconvert_exporter": "python",
   "pygments_lexer": "ipython3",
   "version": "3.9.7"
  }
 },
 "nbformat": 4,
 "nbformat_minor": 5
}
